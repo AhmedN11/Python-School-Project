{
 "cells": [
  {
   "cell_type": "markdown",
   "id": "661fcf92",
   "metadata": {},
   "source": [
    "# Credit Card Fraud Detection Project By Ahmed NANI & Anas TAMI & Rabie HATTABI"
   ]
  },
  {
   "cell_type": "markdown",
   "id": "62a11910",
   "metadata": {},
   "source": [
    "   In this Notebook, We are going to use machine learning models to predict fraudulent credit card transactions. This is critical from both the bank's and the customer's standpoints. Banks cannot afford to lose their clients' funds to scammers. Because the bank is accountable for the fraud transactions, every fraud represents a loss to the bank."
   ]
  },
  {
   "cell_type": "markdown",
   "id": "2ea1c1a1",
   "metadata": {},
   "source": [
    "The dataset covers transactions done by European credit cardholders over the course of two days in September 2013. The dataset is heavily skewed, with the positive class (frauds) accounting for just 0.172 percent of all transactions."
   ]
  },
  {
   "cell_type": "markdown",
   "id": "94d45fe2",
   "metadata": {},
   "source": [
    "# Exploratory Data Analysis (EDA)"
   ]
  },
  {
   "cell_type": "code",
   "execution_count": 243,
   "id": "844a8d4e",
   "metadata": {},
   "outputs": [],
   "source": [
    "import pandas as pd\n",
    "import numpy as np\n",
    "import matplotlib.pyplot as plt\n",
    "import warnings\n",
    "warnings.filterwarnings('ignore')\n",
    "%matplotlib inline\n",
    "import seaborn as sns"
   ]
  },
  {
   "cell_type": "markdown",
   "id": "3f3db1e2",
   "metadata": {},
   "source": [
    "#### Let's read the Data"
   ]
  },
  {
   "cell_type": "code",
   "execution_count": 244,
   "id": "e4ef9815",
   "metadata": {},
   "outputs": [
    {
     "data": {
      "text/html": [
       "<div>\n",
       "<style scoped>\n",
       "    .dataframe tbody tr th:only-of-type {\n",
       "        vertical-align: middle;\n",
       "    }\n",
       "\n",
       "    .dataframe tbody tr th {\n",
       "        vertical-align: top;\n",
       "    }\n",
       "\n",
       "    .dataframe thead th {\n",
       "        text-align: right;\n",
       "    }\n",
       "</style>\n",
       "<table border=\"1\" class=\"dataframe\">\n",
       "  <thead>\n",
       "    <tr style=\"text-align: right;\">\n",
       "      <th></th>\n",
       "      <th>Time</th>\n",
       "      <th>V1</th>\n",
       "      <th>V2</th>\n",
       "      <th>V3</th>\n",
       "      <th>V4</th>\n",
       "      <th>V5</th>\n",
       "      <th>V6</th>\n",
       "      <th>V7</th>\n",
       "      <th>V8</th>\n",
       "      <th>V9</th>\n",
       "      <th>...</th>\n",
       "      <th>V21</th>\n",
       "      <th>V22</th>\n",
       "      <th>V23</th>\n",
       "      <th>V24</th>\n",
       "      <th>V25</th>\n",
       "      <th>V26</th>\n",
       "      <th>V27</th>\n",
       "      <th>V28</th>\n",
       "      <th>Amount</th>\n",
       "      <th>Class</th>\n",
       "    </tr>\n",
       "  </thead>\n",
       "  <tbody>\n",
       "    <tr>\n",
       "      <th>0</th>\n",
       "      <td>0.0</td>\n",
       "      <td>-1.359807</td>\n",
       "      <td>-0.072781</td>\n",
       "      <td>2.536347</td>\n",
       "      <td>1.378155</td>\n",
       "      <td>-0.338321</td>\n",
       "      <td>0.462388</td>\n",
       "      <td>0.239599</td>\n",
       "      <td>0.098698</td>\n",
       "      <td>0.363787</td>\n",
       "      <td>...</td>\n",
       "      <td>-0.018307</td>\n",
       "      <td>0.277838</td>\n",
       "      <td>-0.110474</td>\n",
       "      <td>0.066928</td>\n",
       "      <td>0.128539</td>\n",
       "      <td>-0.189115</td>\n",
       "      <td>0.133558</td>\n",
       "      <td>-0.021053</td>\n",
       "      <td>149.62</td>\n",
       "      <td>0</td>\n",
       "    </tr>\n",
       "    <tr>\n",
       "      <th>1</th>\n",
       "      <td>0.0</td>\n",
       "      <td>1.191857</td>\n",
       "      <td>0.266151</td>\n",
       "      <td>0.166480</td>\n",
       "      <td>0.448154</td>\n",
       "      <td>0.060018</td>\n",
       "      <td>-0.082361</td>\n",
       "      <td>-0.078803</td>\n",
       "      <td>0.085102</td>\n",
       "      <td>-0.255425</td>\n",
       "      <td>...</td>\n",
       "      <td>-0.225775</td>\n",
       "      <td>-0.638672</td>\n",
       "      <td>0.101288</td>\n",
       "      <td>-0.339846</td>\n",
       "      <td>0.167170</td>\n",
       "      <td>0.125895</td>\n",
       "      <td>-0.008983</td>\n",
       "      <td>0.014724</td>\n",
       "      <td>2.69</td>\n",
       "      <td>0</td>\n",
       "    </tr>\n",
       "    <tr>\n",
       "      <th>2</th>\n",
       "      <td>1.0</td>\n",
       "      <td>-1.358354</td>\n",
       "      <td>-1.340163</td>\n",
       "      <td>1.773209</td>\n",
       "      <td>0.379780</td>\n",
       "      <td>-0.503198</td>\n",
       "      <td>1.800499</td>\n",
       "      <td>0.791461</td>\n",
       "      <td>0.247676</td>\n",
       "      <td>-1.514654</td>\n",
       "      <td>...</td>\n",
       "      <td>0.247998</td>\n",
       "      <td>0.771679</td>\n",
       "      <td>0.909412</td>\n",
       "      <td>-0.689281</td>\n",
       "      <td>-0.327642</td>\n",
       "      <td>-0.139097</td>\n",
       "      <td>-0.055353</td>\n",
       "      <td>-0.059752</td>\n",
       "      <td>378.66</td>\n",
       "      <td>0</td>\n",
       "    </tr>\n",
       "    <tr>\n",
       "      <th>3</th>\n",
       "      <td>1.0</td>\n",
       "      <td>-0.966272</td>\n",
       "      <td>-0.185226</td>\n",
       "      <td>1.792993</td>\n",
       "      <td>-0.863291</td>\n",
       "      <td>-0.010309</td>\n",
       "      <td>1.247203</td>\n",
       "      <td>0.237609</td>\n",
       "      <td>0.377436</td>\n",
       "      <td>-1.387024</td>\n",
       "      <td>...</td>\n",
       "      <td>-0.108300</td>\n",
       "      <td>0.005274</td>\n",
       "      <td>-0.190321</td>\n",
       "      <td>-1.175575</td>\n",
       "      <td>0.647376</td>\n",
       "      <td>-0.221929</td>\n",
       "      <td>0.062723</td>\n",
       "      <td>0.061458</td>\n",
       "      <td>123.50</td>\n",
       "      <td>0</td>\n",
       "    </tr>\n",
       "    <tr>\n",
       "      <th>4</th>\n",
       "      <td>2.0</td>\n",
       "      <td>-1.158233</td>\n",
       "      <td>0.877737</td>\n",
       "      <td>1.548718</td>\n",
       "      <td>0.403034</td>\n",
       "      <td>-0.407193</td>\n",
       "      <td>0.095921</td>\n",
       "      <td>0.592941</td>\n",
       "      <td>-0.270533</td>\n",
       "      <td>0.817739</td>\n",
       "      <td>...</td>\n",
       "      <td>-0.009431</td>\n",
       "      <td>0.798278</td>\n",
       "      <td>-0.137458</td>\n",
       "      <td>0.141267</td>\n",
       "      <td>-0.206010</td>\n",
       "      <td>0.502292</td>\n",
       "      <td>0.219422</td>\n",
       "      <td>0.215153</td>\n",
       "      <td>69.99</td>\n",
       "      <td>0</td>\n",
       "    </tr>\n",
       "    <tr>\n",
       "      <th>5</th>\n",
       "      <td>2.0</td>\n",
       "      <td>-0.425966</td>\n",
       "      <td>0.960523</td>\n",
       "      <td>1.141109</td>\n",
       "      <td>-0.168252</td>\n",
       "      <td>0.420987</td>\n",
       "      <td>-0.029728</td>\n",
       "      <td>0.476201</td>\n",
       "      <td>0.260314</td>\n",
       "      <td>-0.568671</td>\n",
       "      <td>...</td>\n",
       "      <td>-0.208254</td>\n",
       "      <td>-0.559825</td>\n",
       "      <td>-0.026398</td>\n",
       "      <td>-0.371427</td>\n",
       "      <td>-0.232794</td>\n",
       "      <td>0.105915</td>\n",
       "      <td>0.253844</td>\n",
       "      <td>0.081080</td>\n",
       "      <td>3.67</td>\n",
       "      <td>0</td>\n",
       "    </tr>\n",
       "    <tr>\n",
       "      <th>6</th>\n",
       "      <td>4.0</td>\n",
       "      <td>1.229658</td>\n",
       "      <td>0.141004</td>\n",
       "      <td>0.045371</td>\n",
       "      <td>1.202613</td>\n",
       "      <td>0.191881</td>\n",
       "      <td>0.272708</td>\n",
       "      <td>-0.005159</td>\n",
       "      <td>0.081213</td>\n",
       "      <td>0.464960</td>\n",
       "      <td>...</td>\n",
       "      <td>-0.167716</td>\n",
       "      <td>-0.270710</td>\n",
       "      <td>-0.154104</td>\n",
       "      <td>-0.780055</td>\n",
       "      <td>0.750137</td>\n",
       "      <td>-0.257237</td>\n",
       "      <td>0.034507</td>\n",
       "      <td>0.005168</td>\n",
       "      <td>4.99</td>\n",
       "      <td>0</td>\n",
       "    </tr>\n",
       "    <tr>\n",
       "      <th>7</th>\n",
       "      <td>7.0</td>\n",
       "      <td>-0.644269</td>\n",
       "      <td>1.417964</td>\n",
       "      <td>1.074380</td>\n",
       "      <td>-0.492199</td>\n",
       "      <td>0.948934</td>\n",
       "      <td>0.428118</td>\n",
       "      <td>1.120631</td>\n",
       "      <td>-3.807864</td>\n",
       "      <td>0.615375</td>\n",
       "      <td>...</td>\n",
       "      <td>1.943465</td>\n",
       "      <td>-1.015455</td>\n",
       "      <td>0.057504</td>\n",
       "      <td>-0.649709</td>\n",
       "      <td>-0.415267</td>\n",
       "      <td>-0.051634</td>\n",
       "      <td>-1.206921</td>\n",
       "      <td>-1.085339</td>\n",
       "      <td>40.80</td>\n",
       "      <td>0</td>\n",
       "    </tr>\n",
       "    <tr>\n",
       "      <th>8</th>\n",
       "      <td>7.0</td>\n",
       "      <td>-0.894286</td>\n",
       "      <td>0.286157</td>\n",
       "      <td>-0.113192</td>\n",
       "      <td>-0.271526</td>\n",
       "      <td>2.669599</td>\n",
       "      <td>3.721818</td>\n",
       "      <td>0.370145</td>\n",
       "      <td>0.851084</td>\n",
       "      <td>-0.392048</td>\n",
       "      <td>...</td>\n",
       "      <td>-0.073425</td>\n",
       "      <td>-0.268092</td>\n",
       "      <td>-0.204233</td>\n",
       "      <td>1.011592</td>\n",
       "      <td>0.373205</td>\n",
       "      <td>-0.384157</td>\n",
       "      <td>0.011747</td>\n",
       "      <td>0.142404</td>\n",
       "      <td>93.20</td>\n",
       "      <td>0</td>\n",
       "    </tr>\n",
       "    <tr>\n",
       "      <th>9</th>\n",
       "      <td>9.0</td>\n",
       "      <td>-0.338262</td>\n",
       "      <td>1.119593</td>\n",
       "      <td>1.044367</td>\n",
       "      <td>-0.222187</td>\n",
       "      <td>0.499361</td>\n",
       "      <td>-0.246761</td>\n",
       "      <td>0.651583</td>\n",
       "      <td>0.069539</td>\n",
       "      <td>-0.736727</td>\n",
       "      <td>...</td>\n",
       "      <td>-0.246914</td>\n",
       "      <td>-0.633753</td>\n",
       "      <td>-0.120794</td>\n",
       "      <td>-0.385050</td>\n",
       "      <td>-0.069733</td>\n",
       "      <td>0.094199</td>\n",
       "      <td>0.246219</td>\n",
       "      <td>0.083076</td>\n",
       "      <td>3.68</td>\n",
       "      <td>0</td>\n",
       "    </tr>\n",
       "  </tbody>\n",
       "</table>\n",
       "<p>10 rows × 31 columns</p>\n",
       "</div>"
      ],
      "text/plain": [
       "   Time        V1        V2        V3        V4        V5        V6        V7  \\\n",
       "0   0.0 -1.359807 -0.072781  2.536347  1.378155 -0.338321  0.462388  0.239599   \n",
       "1   0.0  1.191857  0.266151  0.166480  0.448154  0.060018 -0.082361 -0.078803   \n",
       "2   1.0 -1.358354 -1.340163  1.773209  0.379780 -0.503198  1.800499  0.791461   \n",
       "3   1.0 -0.966272 -0.185226  1.792993 -0.863291 -0.010309  1.247203  0.237609   \n",
       "4   2.0 -1.158233  0.877737  1.548718  0.403034 -0.407193  0.095921  0.592941   \n",
       "5   2.0 -0.425966  0.960523  1.141109 -0.168252  0.420987 -0.029728  0.476201   \n",
       "6   4.0  1.229658  0.141004  0.045371  1.202613  0.191881  0.272708 -0.005159   \n",
       "7   7.0 -0.644269  1.417964  1.074380 -0.492199  0.948934  0.428118  1.120631   \n",
       "8   7.0 -0.894286  0.286157 -0.113192 -0.271526  2.669599  3.721818  0.370145   \n",
       "9   9.0 -0.338262  1.119593  1.044367 -0.222187  0.499361 -0.246761  0.651583   \n",
       "\n",
       "         V8        V9  ...       V21       V22       V23       V24       V25  \\\n",
       "0  0.098698  0.363787  ... -0.018307  0.277838 -0.110474  0.066928  0.128539   \n",
       "1  0.085102 -0.255425  ... -0.225775 -0.638672  0.101288 -0.339846  0.167170   \n",
       "2  0.247676 -1.514654  ...  0.247998  0.771679  0.909412 -0.689281 -0.327642   \n",
       "3  0.377436 -1.387024  ... -0.108300  0.005274 -0.190321 -1.175575  0.647376   \n",
       "4 -0.270533  0.817739  ... -0.009431  0.798278 -0.137458  0.141267 -0.206010   \n",
       "5  0.260314 -0.568671  ... -0.208254 -0.559825 -0.026398 -0.371427 -0.232794   \n",
       "6  0.081213  0.464960  ... -0.167716 -0.270710 -0.154104 -0.780055  0.750137   \n",
       "7 -3.807864  0.615375  ...  1.943465 -1.015455  0.057504 -0.649709 -0.415267   \n",
       "8  0.851084 -0.392048  ... -0.073425 -0.268092 -0.204233  1.011592  0.373205   \n",
       "9  0.069539 -0.736727  ... -0.246914 -0.633753 -0.120794 -0.385050 -0.069733   \n",
       "\n",
       "        V26       V27       V28  Amount  Class  \n",
       "0 -0.189115  0.133558 -0.021053  149.62      0  \n",
       "1  0.125895 -0.008983  0.014724    2.69      0  \n",
       "2 -0.139097 -0.055353 -0.059752  378.66      0  \n",
       "3 -0.221929  0.062723  0.061458  123.50      0  \n",
       "4  0.502292  0.219422  0.215153   69.99      0  \n",
       "5  0.105915  0.253844  0.081080    3.67      0  \n",
       "6 -0.257237  0.034507  0.005168    4.99      0  \n",
       "7 -0.051634 -1.206921 -1.085339   40.80      0  \n",
       "8 -0.384157  0.011747  0.142404   93.20      0  \n",
       "9  0.094199  0.246219  0.083076    3.68      0  \n",
       "\n",
       "[10 rows x 31 columns]"
      ]
     },
     "execution_count": 244,
     "metadata": {},
     "output_type": "execute_result"
    }
   ],
   "source": [
    "df = pd.read_csv('C:\\\\Users\\\\pc\\\\Desktop\\\\Python Project\\\\creditcard.csv')\n",
    "df.head(10)"
   ]
  },
  {
   "cell_type": "markdown",
   "id": "c44937c3",
   "metadata": {},
   "source": [
    "#### Let's shape the data"
   ]
  },
  {
   "cell_type": "code",
   "execution_count": 245,
   "id": "cc5af779",
   "metadata": {},
   "outputs": [
    {
     "data": {
      "text/plain": [
       "(284807, 31)"
      ]
     },
     "execution_count": 245,
     "metadata": {},
     "output_type": "execute_result"
    }
   ],
   "source": [
    "df.shape"
   ]
  },
  {
   "cell_type": "markdown",
   "id": "9d097f3f",
   "metadata": {},
   "source": [
    "#### Let's understand the data"
   ]
  },
  {
   "cell_type": "code",
   "execution_count": 246,
   "id": "d98eb675",
   "metadata": {},
   "outputs": [
    {
     "name": "stdout",
     "output_type": "stream",
     "text": [
      "<class 'pandas.core.frame.DataFrame'>\n",
      "RangeIndex: 284807 entries, 0 to 284806\n",
      "Data columns (total 31 columns):\n",
      " #   Column  Non-Null Count   Dtype  \n",
      "---  ------  --------------   -----  \n",
      " 0   Time    284807 non-null  float64\n",
      " 1   V1      284807 non-null  float64\n",
      " 2   V2      284807 non-null  float64\n",
      " 3   V3      284807 non-null  float64\n",
      " 4   V4      284807 non-null  float64\n",
      " 5   V5      284807 non-null  float64\n",
      " 6   V6      284807 non-null  float64\n",
      " 7   V7      284807 non-null  float64\n",
      " 8   V8      284807 non-null  float64\n",
      " 9   V9      284807 non-null  float64\n",
      " 10  V10     284807 non-null  float64\n",
      " 11  V11     284807 non-null  float64\n",
      " 12  V12     284807 non-null  float64\n",
      " 13  V13     284807 non-null  float64\n",
      " 14  V14     284807 non-null  float64\n",
      " 15  V15     284807 non-null  float64\n",
      " 16  V16     284807 non-null  float64\n",
      " 17  V17     284807 non-null  float64\n",
      " 18  V18     284807 non-null  float64\n",
      " 19  V19     284807 non-null  float64\n",
      " 20  V20     284807 non-null  float64\n",
      " 21  V21     284807 non-null  float64\n",
      " 22  V22     284807 non-null  float64\n",
      " 23  V23     284807 non-null  float64\n",
      " 24  V24     284807 non-null  float64\n",
      " 25  V25     284807 non-null  float64\n",
      " 26  V26     284807 non-null  float64\n",
      " 27  V27     284807 non-null  float64\n",
      " 28  V28     284807 non-null  float64\n",
      " 29  Amount  284807 non-null  float64\n",
      " 30  Class   284807 non-null  int64  \n",
      "dtypes: float64(30), int64(1)\n",
      "memory usage: 67.4 MB\n"
     ]
    }
   ],
   "source": [
    "df.info()"
   ]
  },
  {
   "cell_type": "code",
   "execution_count": 247,
   "id": "07d46c98",
   "metadata": {
    "scrolled": true
   },
   "outputs": [
    {
     "data": {
      "text/html": [
       "<div>\n",
       "<style scoped>\n",
       "    .dataframe tbody tr th:only-of-type {\n",
       "        vertical-align: middle;\n",
       "    }\n",
       "\n",
       "    .dataframe tbody tr th {\n",
       "        vertical-align: top;\n",
       "    }\n",
       "\n",
       "    .dataframe thead th {\n",
       "        text-align: right;\n",
       "    }\n",
       "</style>\n",
       "<table border=\"1\" class=\"dataframe\">\n",
       "  <thead>\n",
       "    <tr style=\"text-align: right;\">\n",
       "      <th></th>\n",
       "      <th>Time</th>\n",
       "      <th>V1</th>\n",
       "      <th>V2</th>\n",
       "      <th>V3</th>\n",
       "      <th>V4</th>\n",
       "      <th>V5</th>\n",
       "      <th>V6</th>\n",
       "      <th>V7</th>\n",
       "      <th>V8</th>\n",
       "      <th>V9</th>\n",
       "      <th>...</th>\n",
       "      <th>V21</th>\n",
       "      <th>V22</th>\n",
       "      <th>V23</th>\n",
       "      <th>V24</th>\n",
       "      <th>V25</th>\n",
       "      <th>V26</th>\n",
       "      <th>V27</th>\n",
       "      <th>V28</th>\n",
       "      <th>Amount</th>\n",
       "      <th>Class</th>\n",
       "    </tr>\n",
       "  </thead>\n",
       "  <tbody>\n",
       "    <tr>\n",
       "      <th>count</th>\n",
       "      <td>284807.000000</td>\n",
       "      <td>2.848070e+05</td>\n",
       "      <td>2.848070e+05</td>\n",
       "      <td>2.848070e+05</td>\n",
       "      <td>2.848070e+05</td>\n",
       "      <td>2.848070e+05</td>\n",
       "      <td>2.848070e+05</td>\n",
       "      <td>2.848070e+05</td>\n",
       "      <td>2.848070e+05</td>\n",
       "      <td>2.848070e+05</td>\n",
       "      <td>...</td>\n",
       "      <td>2.848070e+05</td>\n",
       "      <td>2.848070e+05</td>\n",
       "      <td>2.848070e+05</td>\n",
       "      <td>2.848070e+05</td>\n",
       "      <td>2.848070e+05</td>\n",
       "      <td>2.848070e+05</td>\n",
       "      <td>2.848070e+05</td>\n",
       "      <td>2.848070e+05</td>\n",
       "      <td>284807.000000</td>\n",
       "      <td>284807.000000</td>\n",
       "    </tr>\n",
       "    <tr>\n",
       "      <th>mean</th>\n",
       "      <td>94813.859575</td>\n",
       "      <td>3.918649e-15</td>\n",
       "      <td>5.682686e-16</td>\n",
       "      <td>-8.761736e-15</td>\n",
       "      <td>2.811118e-15</td>\n",
       "      <td>-1.552103e-15</td>\n",
       "      <td>2.040130e-15</td>\n",
       "      <td>-1.698953e-15</td>\n",
       "      <td>-1.893285e-16</td>\n",
       "      <td>-3.147640e-15</td>\n",
       "      <td>...</td>\n",
       "      <td>1.473120e-16</td>\n",
       "      <td>8.042109e-16</td>\n",
       "      <td>5.282512e-16</td>\n",
       "      <td>4.456271e-15</td>\n",
       "      <td>1.426896e-15</td>\n",
       "      <td>1.701640e-15</td>\n",
       "      <td>-3.662252e-16</td>\n",
       "      <td>-1.217809e-16</td>\n",
       "      <td>88.349619</td>\n",
       "      <td>0.001727</td>\n",
       "    </tr>\n",
       "    <tr>\n",
       "      <th>std</th>\n",
       "      <td>47488.145955</td>\n",
       "      <td>1.958696e+00</td>\n",
       "      <td>1.651309e+00</td>\n",
       "      <td>1.516255e+00</td>\n",
       "      <td>1.415869e+00</td>\n",
       "      <td>1.380247e+00</td>\n",
       "      <td>1.332271e+00</td>\n",
       "      <td>1.237094e+00</td>\n",
       "      <td>1.194353e+00</td>\n",
       "      <td>1.098632e+00</td>\n",
       "      <td>...</td>\n",
       "      <td>7.345240e-01</td>\n",
       "      <td>7.257016e-01</td>\n",
       "      <td>6.244603e-01</td>\n",
       "      <td>6.056471e-01</td>\n",
       "      <td>5.212781e-01</td>\n",
       "      <td>4.822270e-01</td>\n",
       "      <td>4.036325e-01</td>\n",
       "      <td>3.300833e-01</td>\n",
       "      <td>250.120109</td>\n",
       "      <td>0.041527</td>\n",
       "    </tr>\n",
       "    <tr>\n",
       "      <th>min</th>\n",
       "      <td>0.000000</td>\n",
       "      <td>-5.640751e+01</td>\n",
       "      <td>-7.271573e+01</td>\n",
       "      <td>-4.832559e+01</td>\n",
       "      <td>-5.683171e+00</td>\n",
       "      <td>-1.137433e+02</td>\n",
       "      <td>-2.616051e+01</td>\n",
       "      <td>-4.355724e+01</td>\n",
       "      <td>-7.321672e+01</td>\n",
       "      <td>-1.343407e+01</td>\n",
       "      <td>...</td>\n",
       "      <td>-3.483038e+01</td>\n",
       "      <td>-1.093314e+01</td>\n",
       "      <td>-4.480774e+01</td>\n",
       "      <td>-2.836627e+00</td>\n",
       "      <td>-1.029540e+01</td>\n",
       "      <td>-2.604551e+00</td>\n",
       "      <td>-2.256568e+01</td>\n",
       "      <td>-1.543008e+01</td>\n",
       "      <td>0.000000</td>\n",
       "      <td>0.000000</td>\n",
       "    </tr>\n",
       "    <tr>\n",
       "      <th>25%</th>\n",
       "      <td>54201.500000</td>\n",
       "      <td>-9.203734e-01</td>\n",
       "      <td>-5.985499e-01</td>\n",
       "      <td>-8.903648e-01</td>\n",
       "      <td>-8.486401e-01</td>\n",
       "      <td>-6.915971e-01</td>\n",
       "      <td>-7.682956e-01</td>\n",
       "      <td>-5.540759e-01</td>\n",
       "      <td>-2.086297e-01</td>\n",
       "      <td>-6.430976e-01</td>\n",
       "      <td>...</td>\n",
       "      <td>-2.283949e-01</td>\n",
       "      <td>-5.423504e-01</td>\n",
       "      <td>-1.618463e-01</td>\n",
       "      <td>-3.545861e-01</td>\n",
       "      <td>-3.171451e-01</td>\n",
       "      <td>-3.269839e-01</td>\n",
       "      <td>-7.083953e-02</td>\n",
       "      <td>-5.295979e-02</td>\n",
       "      <td>5.600000</td>\n",
       "      <td>0.000000</td>\n",
       "    </tr>\n",
       "    <tr>\n",
       "      <th>50%</th>\n",
       "      <td>84692.000000</td>\n",
       "      <td>1.810880e-02</td>\n",
       "      <td>6.548556e-02</td>\n",
       "      <td>1.798463e-01</td>\n",
       "      <td>-1.984653e-02</td>\n",
       "      <td>-5.433583e-02</td>\n",
       "      <td>-2.741871e-01</td>\n",
       "      <td>4.010308e-02</td>\n",
       "      <td>2.235804e-02</td>\n",
       "      <td>-5.142873e-02</td>\n",
       "      <td>...</td>\n",
       "      <td>-2.945017e-02</td>\n",
       "      <td>6.781943e-03</td>\n",
       "      <td>-1.119293e-02</td>\n",
       "      <td>4.097606e-02</td>\n",
       "      <td>1.659350e-02</td>\n",
       "      <td>-5.213911e-02</td>\n",
       "      <td>1.342146e-03</td>\n",
       "      <td>1.124383e-02</td>\n",
       "      <td>22.000000</td>\n",
       "      <td>0.000000</td>\n",
       "    </tr>\n",
       "    <tr>\n",
       "      <th>75%</th>\n",
       "      <td>139320.500000</td>\n",
       "      <td>1.315642e+00</td>\n",
       "      <td>8.037239e-01</td>\n",
       "      <td>1.027196e+00</td>\n",
       "      <td>7.433413e-01</td>\n",
       "      <td>6.119264e-01</td>\n",
       "      <td>3.985649e-01</td>\n",
       "      <td>5.704361e-01</td>\n",
       "      <td>3.273459e-01</td>\n",
       "      <td>5.971390e-01</td>\n",
       "      <td>...</td>\n",
       "      <td>1.863772e-01</td>\n",
       "      <td>5.285536e-01</td>\n",
       "      <td>1.476421e-01</td>\n",
       "      <td>4.395266e-01</td>\n",
       "      <td>3.507156e-01</td>\n",
       "      <td>2.409522e-01</td>\n",
       "      <td>9.104512e-02</td>\n",
       "      <td>7.827995e-02</td>\n",
       "      <td>77.165000</td>\n",
       "      <td>0.000000</td>\n",
       "    </tr>\n",
       "    <tr>\n",
       "      <th>max</th>\n",
       "      <td>172792.000000</td>\n",
       "      <td>2.454930e+00</td>\n",
       "      <td>2.205773e+01</td>\n",
       "      <td>9.382558e+00</td>\n",
       "      <td>1.687534e+01</td>\n",
       "      <td>3.480167e+01</td>\n",
       "      <td>7.330163e+01</td>\n",
       "      <td>1.205895e+02</td>\n",
       "      <td>2.000721e+01</td>\n",
       "      <td>1.559499e+01</td>\n",
       "      <td>...</td>\n",
       "      <td>2.720284e+01</td>\n",
       "      <td>1.050309e+01</td>\n",
       "      <td>2.252841e+01</td>\n",
       "      <td>4.584549e+00</td>\n",
       "      <td>7.519589e+00</td>\n",
       "      <td>3.517346e+00</td>\n",
       "      <td>3.161220e+01</td>\n",
       "      <td>3.384781e+01</td>\n",
       "      <td>25691.160000</td>\n",
       "      <td>1.000000</td>\n",
       "    </tr>\n",
       "  </tbody>\n",
       "</table>\n",
       "<p>8 rows × 31 columns</p>\n",
       "</div>"
      ],
      "text/plain": [
       "                Time            V1            V2            V3            V4  \\\n",
       "count  284807.000000  2.848070e+05  2.848070e+05  2.848070e+05  2.848070e+05   \n",
       "mean    94813.859575  3.918649e-15  5.682686e-16 -8.761736e-15  2.811118e-15   \n",
       "std     47488.145955  1.958696e+00  1.651309e+00  1.516255e+00  1.415869e+00   \n",
       "min         0.000000 -5.640751e+01 -7.271573e+01 -4.832559e+01 -5.683171e+00   \n",
       "25%     54201.500000 -9.203734e-01 -5.985499e-01 -8.903648e-01 -8.486401e-01   \n",
       "50%     84692.000000  1.810880e-02  6.548556e-02  1.798463e-01 -1.984653e-02   \n",
       "75%    139320.500000  1.315642e+00  8.037239e-01  1.027196e+00  7.433413e-01   \n",
       "max    172792.000000  2.454930e+00  2.205773e+01  9.382558e+00  1.687534e+01   \n",
       "\n",
       "                 V5            V6            V7            V8            V9  \\\n",
       "count  2.848070e+05  2.848070e+05  2.848070e+05  2.848070e+05  2.848070e+05   \n",
       "mean  -1.552103e-15  2.040130e-15 -1.698953e-15 -1.893285e-16 -3.147640e-15   \n",
       "std    1.380247e+00  1.332271e+00  1.237094e+00  1.194353e+00  1.098632e+00   \n",
       "min   -1.137433e+02 -2.616051e+01 -4.355724e+01 -7.321672e+01 -1.343407e+01   \n",
       "25%   -6.915971e-01 -7.682956e-01 -5.540759e-01 -2.086297e-01 -6.430976e-01   \n",
       "50%   -5.433583e-02 -2.741871e-01  4.010308e-02  2.235804e-02 -5.142873e-02   \n",
       "75%    6.119264e-01  3.985649e-01  5.704361e-01  3.273459e-01  5.971390e-01   \n",
       "max    3.480167e+01  7.330163e+01  1.205895e+02  2.000721e+01  1.559499e+01   \n",
       "\n",
       "       ...           V21           V22           V23           V24  \\\n",
       "count  ...  2.848070e+05  2.848070e+05  2.848070e+05  2.848070e+05   \n",
       "mean   ...  1.473120e-16  8.042109e-16  5.282512e-16  4.456271e-15   \n",
       "std    ...  7.345240e-01  7.257016e-01  6.244603e-01  6.056471e-01   \n",
       "min    ... -3.483038e+01 -1.093314e+01 -4.480774e+01 -2.836627e+00   \n",
       "25%    ... -2.283949e-01 -5.423504e-01 -1.618463e-01 -3.545861e-01   \n",
       "50%    ... -2.945017e-02  6.781943e-03 -1.119293e-02  4.097606e-02   \n",
       "75%    ...  1.863772e-01  5.285536e-01  1.476421e-01  4.395266e-01   \n",
       "max    ...  2.720284e+01  1.050309e+01  2.252841e+01  4.584549e+00   \n",
       "\n",
       "                V25           V26           V27           V28         Amount  \\\n",
       "count  2.848070e+05  2.848070e+05  2.848070e+05  2.848070e+05  284807.000000   \n",
       "mean   1.426896e-15  1.701640e-15 -3.662252e-16 -1.217809e-16      88.349619   \n",
       "std    5.212781e-01  4.822270e-01  4.036325e-01  3.300833e-01     250.120109   \n",
       "min   -1.029540e+01 -2.604551e+00 -2.256568e+01 -1.543008e+01       0.000000   \n",
       "25%   -3.171451e-01 -3.269839e-01 -7.083953e-02 -5.295979e-02       5.600000   \n",
       "50%    1.659350e-02 -5.213911e-02  1.342146e-03  1.124383e-02      22.000000   \n",
       "75%    3.507156e-01  2.409522e-01  9.104512e-02  7.827995e-02      77.165000   \n",
       "max    7.519589e+00  3.517346e+00  3.161220e+01  3.384781e+01   25691.160000   \n",
       "\n",
       "               Class  \n",
       "count  284807.000000  \n",
       "mean        0.001727  \n",
       "std         0.041527  \n",
       "min         0.000000  \n",
       "25%         0.000000  \n",
       "50%         0.000000  \n",
       "75%         0.000000  \n",
       "max         1.000000  \n",
       "\n",
       "[8 rows x 31 columns]"
      ]
     },
     "execution_count": 247,
     "metadata": {},
     "output_type": "execute_result"
    }
   ],
   "source": [
    "df.describe()"
   ]
  },
  {
   "cell_type": "markdown",
   "id": "52cdeead",
   "metadata": {},
   "source": [
    "## Solving the problem of imbalanced data"
   ]
  },
  {
   "cell_type": "code",
   "execution_count": 248,
   "id": "c3d71806",
   "metadata": {},
   "outputs": [],
   "source": [
    "import random\n",
    "df = df.groupby('Class').sample(n=500, random_state=1, replace = True)"
   ]
  },
  {
   "cell_type": "markdown",
   "id": "1619ca15",
   "metadata": {},
   "source": [
    "#### Let's handle the missing values"
   ]
  },
  {
   "cell_type": "code",
   "execution_count": 249,
   "id": "fcf89bae",
   "metadata": {},
   "outputs": [
    {
     "data": {
      "text/html": [
       "<div>\n",
       "<style scoped>\n",
       "    .dataframe tbody tr th:only-of-type {\n",
       "        vertical-align: middle;\n",
       "    }\n",
       "\n",
       "    .dataframe tbody tr th {\n",
       "        vertical-align: top;\n",
       "    }\n",
       "\n",
       "    .dataframe thead th {\n",
       "        text-align: right;\n",
       "    }\n",
       "</style>\n",
       "<table border=\"1\" class=\"dataframe\">\n",
       "  <thead>\n",
       "    <tr style=\"text-align: right;\">\n",
       "      <th></th>\n",
       "      <th>null</th>\n",
       "    </tr>\n",
       "  </thead>\n",
       "  <tbody>\n",
       "    <tr>\n",
       "      <th>Time</th>\n",
       "      <td>0.0</td>\n",
       "    </tr>\n",
       "    <tr>\n",
       "      <th>V16</th>\n",
       "      <td>0.0</td>\n",
       "    </tr>\n",
       "    <tr>\n",
       "      <th>Amount</th>\n",
       "      <td>0.0</td>\n",
       "    </tr>\n",
       "    <tr>\n",
       "      <th>V28</th>\n",
       "      <td>0.0</td>\n",
       "    </tr>\n",
       "    <tr>\n",
       "      <th>V27</th>\n",
       "      <td>0.0</td>\n",
       "    </tr>\n",
       "    <tr>\n",
       "      <th>V26</th>\n",
       "      <td>0.0</td>\n",
       "    </tr>\n",
       "    <tr>\n",
       "      <th>V25</th>\n",
       "      <td>0.0</td>\n",
       "    </tr>\n",
       "    <tr>\n",
       "      <th>V24</th>\n",
       "      <td>0.0</td>\n",
       "    </tr>\n",
       "    <tr>\n",
       "      <th>V23</th>\n",
       "      <td>0.0</td>\n",
       "    </tr>\n",
       "    <tr>\n",
       "      <th>V22</th>\n",
       "      <td>0.0</td>\n",
       "    </tr>\n",
       "    <tr>\n",
       "      <th>V21</th>\n",
       "      <td>0.0</td>\n",
       "    </tr>\n",
       "    <tr>\n",
       "      <th>V20</th>\n",
       "      <td>0.0</td>\n",
       "    </tr>\n",
       "    <tr>\n",
       "      <th>V19</th>\n",
       "      <td>0.0</td>\n",
       "    </tr>\n",
       "    <tr>\n",
       "      <th>V18</th>\n",
       "      <td>0.0</td>\n",
       "    </tr>\n",
       "    <tr>\n",
       "      <th>V17</th>\n",
       "      <td>0.0</td>\n",
       "    </tr>\n",
       "    <tr>\n",
       "      <th>V15</th>\n",
       "      <td>0.0</td>\n",
       "    </tr>\n",
       "    <tr>\n",
       "      <th>V1</th>\n",
       "      <td>0.0</td>\n",
       "    </tr>\n",
       "    <tr>\n",
       "      <th>V14</th>\n",
       "      <td>0.0</td>\n",
       "    </tr>\n",
       "    <tr>\n",
       "      <th>V13</th>\n",
       "      <td>0.0</td>\n",
       "    </tr>\n",
       "    <tr>\n",
       "      <th>V12</th>\n",
       "      <td>0.0</td>\n",
       "    </tr>\n",
       "    <tr>\n",
       "      <th>V11</th>\n",
       "      <td>0.0</td>\n",
       "    </tr>\n",
       "    <tr>\n",
       "      <th>V10</th>\n",
       "      <td>0.0</td>\n",
       "    </tr>\n",
       "    <tr>\n",
       "      <th>V9</th>\n",
       "      <td>0.0</td>\n",
       "    </tr>\n",
       "    <tr>\n",
       "      <th>V8</th>\n",
       "      <td>0.0</td>\n",
       "    </tr>\n",
       "    <tr>\n",
       "      <th>V7</th>\n",
       "      <td>0.0</td>\n",
       "    </tr>\n",
       "    <tr>\n",
       "      <th>V6</th>\n",
       "      <td>0.0</td>\n",
       "    </tr>\n",
       "    <tr>\n",
       "      <th>V5</th>\n",
       "      <td>0.0</td>\n",
       "    </tr>\n",
       "    <tr>\n",
       "      <th>V4</th>\n",
       "      <td>0.0</td>\n",
       "    </tr>\n",
       "    <tr>\n",
       "      <th>V3</th>\n",
       "      <td>0.0</td>\n",
       "    </tr>\n",
       "    <tr>\n",
       "      <th>V2</th>\n",
       "      <td>0.0</td>\n",
       "    </tr>\n",
       "    <tr>\n",
       "      <th>Class</th>\n",
       "      <td>0.0</td>\n",
       "    </tr>\n",
       "  </tbody>\n",
       "</table>\n",
       "</div>"
      ],
      "text/plain": [
       "        null\n",
       "Time     0.0\n",
       "V16      0.0\n",
       "Amount   0.0\n",
       "V28      0.0\n",
       "V27      0.0\n",
       "V26      0.0\n",
       "V25      0.0\n",
       "V24      0.0\n",
       "V23      0.0\n",
       "V22      0.0\n",
       "V21      0.0\n",
       "V20      0.0\n",
       "V19      0.0\n",
       "V18      0.0\n",
       "V17      0.0\n",
       "V15      0.0\n",
       "V1       0.0\n",
       "V14      0.0\n",
       "V13      0.0\n",
       "V12      0.0\n",
       "V11      0.0\n",
       "V10      0.0\n",
       "V9       0.0\n",
       "V8       0.0\n",
       "V7       0.0\n",
       "V6       0.0\n",
       "V5       0.0\n",
       "V4       0.0\n",
       "V3       0.0\n",
       "V2       0.0\n",
       "Class    0.0"
      ]
     },
     "execution_count": 249,
     "metadata": {},
     "output_type": "execute_result"
    }
   ],
   "source": [
    "df_missing_columns = (round(((df.isnull().sum()/len(df.index))*100),2).to_frame('null')).sort_values('null', ascending=False)\n",
    "df_missing_columns"
   ]
  },
  {
   "cell_type": "markdown",
   "id": "7b706245",
   "metadata": {},
   "source": [
    "There are no missing values in any of the columns, as far as we can see. As a result, null values are not a concern across the dataset."
   ]
  },
  {
   "cell_type": "markdown",
   "id": "c7ba5068",
   "metadata": {},
   "source": [
    "#### Let's check the distribution of the classes"
   ]
  },
  {
   "cell_type": "code",
   "execution_count": 250,
   "id": "85bb7336",
   "metadata": {},
   "outputs": [
    {
     "data": {
      "text/plain": [
       "0    500\n",
       "1    500\n",
       "Name: Class, dtype: int64"
      ]
     },
     "execution_count": 250,
     "metadata": {},
     "output_type": "execute_result"
    }
   ],
   "source": [
    "classes = df['Class'].value_counts()\n",
    "classes"
   ]
  },
  {
   "cell_type": "code",
   "execution_count": 251,
   "id": "144cf46d",
   "metadata": {},
   "outputs": [
    {
     "data": {
      "image/png": "[encoded data removed]",
      "text/plain": [
       "<Figure size 432x288 with 1 Axes>"
      ]
     },
     "metadata": {
      "needs_background": "light"
     },
     "output_type": "display_data"
    }
   ],
   "source": [
    "sns.countplot(x='Class', data=df)\n",
    "plt.title('Number of fraudulent vs non fraudulent transactions')\n",
    "plt.show()"
   ]
  },
  {
   "cell_type": "markdown",
   "id": "5946ff30",
   "metadata": {},
   "source": [
    "#### Let's observe the distribution of classes with time"
   ]
  },
  {
   "cell_type": "code",
   "execution_count": 252,
   "id": "b875ed04",
   "metadata": {},
   "outputs": [],
   "source": [
    "data_fraud= df[df['Class']==1]\n",
    "data_neg_fraud= df[df['Class']==0]"
   ]
  },
  {
   "cell_type": "code",
   "execution_count": 253,
   "id": "358157e0",
   "metadata": {},
   "outputs": [
    {
     "data": {
      "image/png": "[encoded data removed]",
      "text/plain": [
       "<Figure size 720x360 with 1 Axes>"
      ]
     },
     "metadata": {
      "needs_background": "light"
     },
     "output_type": "display_data"
    }
   ],
   "source": [
    "plt.figure(figsize=(10,5))\n",
    "ax = sns.distplot(data_fraud['Time'],label='positive Fraud',hist=False)\n",
    "ax = sns.distplot(data_neg_fraud['Time'],label='negative Fraud',hist=False)\n",
    "ax.set(xlabel='Seconds elapsed between the current transaction and the first transaction')\n",
    "plt.legend(['Positive Fraud', 'negative Fraud'])\n",
    "plt.show()"
   ]
  },
  {
   "cell_type": "markdown",
   "id": "34226472",
   "metadata": {},
   "source": [
    "##### Analysis"
   ]
  },
  {
   "cell_type": "markdown",
   "id": "570a7e66",
   "metadata": {},
   "source": [
    "We cannot observe any specific difference between the two plots. So, We can drop the Time column."
   ]
  },
  {
   "cell_type": "code",
   "execution_count": 254,
   "id": "e2f27c42",
   "metadata": {},
   "outputs": [],
   "source": [
    "#Dropping the Time column\n",
    "df.drop('Time', axis=1, inplace=True)"
   ]
  },
  {
   "cell_type": "markdown",
   "id": "1e7e5f4d",
   "metadata": {},
   "source": [
    "#### Let's observe the distribution of classes with amount"
   ]
  },
  {
   "cell_type": "code",
   "execution_count": 255,
   "id": "881f1c36",
   "metadata": {},
   "outputs": [
    {
     "data": {
      "image/png": "[encoded data removed]",
      "text/plain": [
       "<Figure size 720x360 with 1 Axes>"
      ]
     },
     "metadata": {
      "needs_background": "light"
     },
     "output_type": "display_data"
    }
   ],
   "source": [
    "plt.figure(figsize=(10,5))\n",
    "ax = sns.distplot(data_fraud['Amount'], label='positive fraud', hist=False)\n",
    "ax = sns.distplot(data_neg_fraud['Time'], label='negative fraud', hist=False)\n",
    "ax.set(xlabel='Transaction Amount')\n",
    "plt.legend(['positive fraud', 'negative fraud'])\n",
    "plt.show()"
   ]
  },
  {
   "cell_type": "markdown",
   "id": "83f0157e",
   "metadata": {},
   "source": [
    "##### Analysis"
   ]
  },
  {
   "cell_type": "markdown",
   "id": "6b33c43d",
   "metadata": {},
   "source": [
    "We can observe that the fraudulent transactions are mostly densed in the lower value range, but non-fraudulent transactions are dispersed throughout the low to high amount range."
   ]
  },
  {
   "cell_type": "markdown",
   "id": "e725b337",
   "metadata": {},
   "source": [
    "# Train Test Split"
   ]
  },
  {
   "cell_type": "code",
   "execution_count": 256,
   "id": "d3772d94",
   "metadata": {},
   "outputs": [],
   "source": [
    "#importing library and defining feature & target variables\n",
    "from sklearn.model_selection import train_test_split\n",
    "X= df.drop(['Class'], axis=1)\n",
    "y= df['Class']\n",
    "#Splitting data into train and test set 80:20\n",
    "X_train, X_test, y_train, y_test = train_test_split(X, y, train_size=0.8, test_size=0.2, random_state=100)"
   ]
  },
  {
   "cell_type": "markdown",
   "id": "242175f6",
   "metadata": {},
   "source": [
    "## Feature Scaling"
   ]
  },
  {
   "cell_type": "markdown",
   "id": "17b22cb5",
   "metadata": {},
   "source": [
    "We need to scale only the Amount column as all other columns are already scaled by the PCA transformation."
   ]
  },
  {
   "cell_type": "code",
   "execution_count": 257,
   "id": "d05b4bb9",
   "metadata": {},
   "outputs": [
    {
     "data": {
      "text/html": [
       "<div>\n",
       "<style scoped>\n",
       "    .dataframe tbody tr th:only-of-type {\n",
       "        vertical-align: middle;\n",
       "    }\n",
       "\n",
       "    .dataframe tbody tr th {\n",
       "        vertical-align: top;\n",
       "    }\n",
       "\n",
       "    .dataframe thead th {\n",
       "        text-align: right;\n",
       "    }\n",
       "</style>\n",
       "<table border=\"1\" class=\"dataframe\">\n",
       "  <thead>\n",
       "    <tr style=\"text-align: right;\">\n",
       "      <th></th>\n",
       "      <th>V1</th>\n",
       "      <th>V2</th>\n",
       "      <th>V3</th>\n",
       "      <th>V4</th>\n",
       "      <th>V5</th>\n",
       "      <th>V6</th>\n",
       "      <th>V7</th>\n",
       "      <th>V8</th>\n",
       "      <th>V9</th>\n",
       "      <th>V10</th>\n",
       "      <th>...</th>\n",
       "      <th>V20</th>\n",
       "      <th>V21</th>\n",
       "      <th>V22</th>\n",
       "      <th>V23</th>\n",
       "      <th>V24</th>\n",
       "      <th>V25</th>\n",
       "      <th>V26</th>\n",
       "      <th>V27</th>\n",
       "      <th>V28</th>\n",
       "      <th>Amount</th>\n",
       "    </tr>\n",
       "  </thead>\n",
       "  <tbody>\n",
       "    <tr>\n",
       "      <th>123270</th>\n",
       "      <td>1.082566</td>\n",
       "      <td>1.094862</td>\n",
       "      <td>-1.367020</td>\n",
       "      <td>2.012554</td>\n",
       "      <td>0.708142</td>\n",
       "      <td>-0.807712</td>\n",
       "      <td>0.151952</td>\n",
       "      <td>0.158353</td>\n",
       "      <td>0.009872</td>\n",
       "      <td>-1.925278</td>\n",
       "      <td>...</td>\n",
       "      <td>-0.135789</td>\n",
       "      <td>-0.325284</td>\n",
       "      <td>-0.734344</td>\n",
       "      <td>-0.106725</td>\n",
       "      <td>-0.224999</td>\n",
       "      <td>0.569167</td>\n",
       "      <td>-0.335033</td>\n",
       "      <td>0.089140</td>\n",
       "      <td>0.112337</td>\n",
       "      <td>-0.417435</td>\n",
       "    </tr>\n",
       "    <tr>\n",
       "      <th>272433</th>\n",
       "      <td>1.961648</td>\n",
       "      <td>-0.755606</td>\n",
       "      <td>-1.157647</td>\n",
       "      <td>-0.623486</td>\n",
       "      <td>1.369823</td>\n",
       "      <td>4.065187</td>\n",
       "      <td>-1.677964</td>\n",
       "      <td>1.173519</td>\n",
       "      <td>1.144429</td>\n",
       "      <td>0.105208</td>\n",
       "      <td>...</td>\n",
       "      <td>-0.107647</td>\n",
       "      <td>0.245015</td>\n",
       "      <td>0.710489</td>\n",
       "      <td>0.298511</td>\n",
       "      <td>0.726147</td>\n",
       "      <td>-0.505524</td>\n",
       "      <td>0.325739</td>\n",
       "      <td>0.038479</td>\n",
       "      <td>-0.037272</td>\n",
       "      <td>-0.416952</td>\n",
       "    </tr>\n",
       "    <tr>\n",
       "      <th>26791</th>\n",
       "      <td>1.247339</td>\n",
       "      <td>1.231827</td>\n",
       "      <td>-1.608055</td>\n",
       "      <td>1.655805</td>\n",
       "      <td>0.752516</td>\n",
       "      <td>-1.852035</td>\n",
       "      <td>0.711062</td>\n",
       "      <td>-0.331864</td>\n",
       "      <td>-0.300775</td>\n",
       "      <td>-1.521992</td>\n",
       "      <td>...</td>\n",
       "      <td>-0.098095</td>\n",
       "      <td>-0.221805</td>\n",
       "      <td>-0.584886</td>\n",
       "      <td>-0.197435</td>\n",
       "      <td>0.028701</td>\n",
       "      <td>0.825606</td>\n",
       "      <td>-0.290703</td>\n",
       "      <td>0.033667</td>\n",
       "      <td>0.094851</td>\n",
       "      <td>-0.417435</td>\n",
       "    </tr>\n",
       "    <tr>\n",
       "      <th>9035</th>\n",
       "      <td>-2.589617</td>\n",
       "      <td>7.016714</td>\n",
       "      <td>-13.705407</td>\n",
       "      <td>10.343228</td>\n",
       "      <td>-2.954461</td>\n",
       "      <td>-3.055116</td>\n",
       "      <td>-9.301289</td>\n",
       "      <td>3.349573</td>\n",
       "      <td>-5.654212</td>\n",
       "      <td>-11.853867</td>\n",
       "      <td>...</td>\n",
       "      <td>1.488855</td>\n",
       "      <td>1.887738</td>\n",
       "      <td>0.333998</td>\n",
       "      <td>0.287659</td>\n",
       "      <td>-1.186406</td>\n",
       "      <td>-0.690273</td>\n",
       "      <td>0.631704</td>\n",
       "      <td>1.934221</td>\n",
       "      <td>0.789687</td>\n",
       "      <td>-0.417435</td>\n",
       "    </tr>\n",
       "    <tr>\n",
       "      <th>69980</th>\n",
       "      <td>-1.739341</td>\n",
       "      <td>1.344521</td>\n",
       "      <td>-0.534379</td>\n",
       "      <td>3.195291</td>\n",
       "      <td>-0.416196</td>\n",
       "      <td>-1.261961</td>\n",
       "      <td>-2.340991</td>\n",
       "      <td>0.713004</td>\n",
       "      <td>-1.416265</td>\n",
       "      <td>-2.996669</td>\n",
       "      <td>...</td>\n",
       "      <td>0.002749</td>\n",
       "      <td>0.383180</td>\n",
       "      <td>-0.213952</td>\n",
       "      <td>-0.336640</td>\n",
       "      <td>0.237076</td>\n",
       "      <td>0.246003</td>\n",
       "      <td>-0.044228</td>\n",
       "      <td>0.510729</td>\n",
       "      <td>0.220952</td>\n",
       "      <td>-0.421832</td>\n",
       "    </tr>\n",
       "  </tbody>\n",
       "</table>\n",
       "<p>5 rows × 29 columns</p>\n",
       "</div>"
      ],
      "text/plain": [
       "              V1        V2         V3         V4        V5        V6  \\\n",
       "123270  1.082566  1.094862  -1.367020   2.012554  0.708142 -0.807712   \n",
       "272433  1.961648 -0.755606  -1.157647  -0.623486  1.369823  4.065187   \n",
       "26791   1.247339  1.231827  -1.608055   1.655805  0.752516 -1.852035   \n",
       "9035   -2.589617  7.016714 -13.705407  10.343228 -2.954461 -3.055116   \n",
       "69980  -1.739341  1.344521  -0.534379   3.195291 -0.416196 -1.261961   \n",
       "\n",
       "              V7        V8        V9        V10  ...       V20       V21  \\\n",
       "123270  0.151952  0.158353  0.009872  -1.925278  ... -0.135789 -0.325284   \n",
       "272433 -1.677964  1.173519  1.144429   0.105208  ... -0.107647  0.245015   \n",
       "26791   0.711062 -0.331864 -0.300775  -1.521992  ... -0.098095 -0.221805   \n",
       "9035   -9.301289  3.349573 -5.654212 -11.853867  ...  1.488855  1.887738   \n",
       "69980  -2.340991  0.713004 -1.416265  -2.996669  ...  0.002749  0.383180   \n",
       "\n",
       "             V22       V23       V24       V25       V26       V27       V28  \\\n",
       "123270 -0.734344 -0.106725 -0.224999  0.569167 -0.335033  0.089140  0.112337   \n",
       "272433  0.710489  0.298511  0.726147 -0.505524  0.325739  0.038479 -0.037272   \n",
       "26791  -0.584886 -0.197435  0.028701  0.825606 -0.290703  0.033667  0.094851   \n",
       "9035    0.333998  0.287659 -1.186406 -0.690273  0.631704  1.934221  0.789687   \n",
       "69980  -0.213952 -0.336640  0.237076  0.246003 -0.044228  0.510729  0.220952   \n",
       "\n",
       "          Amount  \n",
       "123270 -0.417435  \n",
       "272433 -0.416952  \n",
       "26791  -0.417435  \n",
       "9035   -0.417435  \n",
       "69980  -0.421832  \n",
       "\n",
       "[5 rows x 29 columns]"
      ]
     },
     "execution_count": 257,
     "metadata": {},
     "output_type": "execute_result"
    }
   ],
   "source": [
    "from sklearn.preprocessing import StandardScaler\n",
    "scaler = StandardScaler()\n",
    "X_train['Amount'] = scaler.fit_transform(X_train[['Amount']])\n",
    "X_train.head()"
   ]
  },
  {
   "cell_type": "markdown",
   "id": "1de0f261",
   "metadata": {},
   "source": [
    "##### Let's scale the test set"
   ]
  },
  {
   "cell_type": "markdown",
   "id": "1dcfef67",
   "metadata": {},
   "source": [
    "we do not fit scale on the test set. We only transform it."
   ]
  },
  {
   "cell_type": "code",
   "execution_count": 258,
   "id": "7dacb707",
   "metadata": {},
   "outputs": [
    {
     "data": {
      "text/html": [
       "<div>\n",
       "<style scoped>\n",
       "    .dataframe tbody tr th:only-of-type {\n",
       "        vertical-align: middle;\n",
       "    }\n",
       "\n",
       "    .dataframe tbody tr th {\n",
       "        vertical-align: top;\n",
       "    }\n",
       "\n",
       "    .dataframe thead th {\n",
       "        text-align: right;\n",
       "    }\n",
       "</style>\n",
       "<table border=\"1\" class=\"dataframe\">\n",
       "  <thead>\n",
       "    <tr style=\"text-align: right;\">\n",
       "      <th></th>\n",
       "      <th>V1</th>\n",
       "      <th>V2</th>\n",
       "      <th>V3</th>\n",
       "      <th>V4</th>\n",
       "      <th>V5</th>\n",
       "      <th>V6</th>\n",
       "      <th>V7</th>\n",
       "      <th>V8</th>\n",
       "      <th>V9</th>\n",
       "      <th>V10</th>\n",
       "      <th>...</th>\n",
       "      <th>V20</th>\n",
       "      <th>V21</th>\n",
       "      <th>V22</th>\n",
       "      <th>V23</th>\n",
       "      <th>V24</th>\n",
       "      <th>V25</th>\n",
       "      <th>V26</th>\n",
       "      <th>V27</th>\n",
       "      <th>V28</th>\n",
       "      <th>Amount</th>\n",
       "    </tr>\n",
       "  </thead>\n",
       "  <tbody>\n",
       "    <tr>\n",
       "      <th>105008</th>\n",
       "      <td>1.197635</td>\n",
       "      <td>-0.123635</td>\n",
       "      <td>-1.200728</td>\n",
       "      <td>0.292578</td>\n",
       "      <td>2.152922</td>\n",
       "      <td>3.619084</td>\n",
       "      <td>-0.393989</td>\n",
       "      <td>0.840332</td>\n",
       "      <td>0.168453</td>\n",
       "      <td>-0.034109</td>\n",
       "      <td>...</td>\n",
       "      <td>0.030458</td>\n",
       "      <td>-0.162831</td>\n",
       "      <td>-0.498759</td>\n",
       "      <td>-0.156572</td>\n",
       "      <td>1.011622</td>\n",
       "      <td>0.880720</td>\n",
       "      <td>-0.330255</td>\n",
       "      <td>0.018915</td>\n",
       "      <td>0.018378</td>\n",
       "      <td>-0.235432</td>\n",
       "    </tr>\n",
       "    <tr>\n",
       "      <th>148774</th>\n",
       "      <td>0.084052</td>\n",
       "      <td>0.844449</td>\n",
       "      <td>0.650038</td>\n",
       "      <td>-0.507115</td>\n",
       "      <td>0.633558</td>\n",
       "      <td>-0.762991</td>\n",
       "      <td>1.048708</td>\n",
       "      <td>-0.375754</td>\n",
       "      <td>1.098719</td>\n",
       "      <td>-0.409608</td>\n",
       "      <td>...</td>\n",
       "      <td>0.017765</td>\n",
       "      <td>-0.400162</td>\n",
       "      <td>-0.590827</td>\n",
       "      <td>0.052423</td>\n",
       "      <td>0.012767</td>\n",
       "      <td>-0.574631</td>\n",
       "      <td>0.047372</td>\n",
       "      <td>0.052227</td>\n",
       "      <td>-0.140604</td>\n",
       "      <td>-0.382310</td>\n",
       "    </tr>\n",
       "    <tr>\n",
       "      <th>15736</th>\n",
       "      <td>-23.914101</td>\n",
       "      <td>13.765942</td>\n",
       "      <td>-25.733734</td>\n",
       "      <td>6.290918</td>\n",
       "      <td>-17.784824</td>\n",
       "      <td>-4.572498</td>\n",
       "      <td>-17.390764</td>\n",
       "      <td>15.794136</td>\n",
       "      <td>-3.819832</td>\n",
       "      <td>-8.442262</td>\n",
       "      <td>...</td>\n",
       "      <td>1.640037</td>\n",
       "      <td>1.773399</td>\n",
       "      <td>-1.748426</td>\n",
       "      <td>-1.093104</td>\n",
       "      <td>0.147807</td>\n",
       "      <td>1.663792</td>\n",
       "      <td>-0.221024</td>\n",
       "      <td>1.458076</td>\n",
       "      <td>0.430315</td>\n",
       "      <td>0.017747</td>\n",
       "    </tr>\n",
       "    <tr>\n",
       "      <th>83376</th>\n",
       "      <td>-0.869154</td>\n",
       "      <td>1.063008</td>\n",
       "      <td>0.531097</td>\n",
       "      <td>-0.434466</td>\n",
       "      <td>2.297790</td>\n",
       "      <td>3.836094</td>\n",
       "      <td>0.036158</td>\n",
       "      <td>0.900121</td>\n",
       "      <td>-0.515299</td>\n",
       "      <td>0.055713</td>\n",
       "      <td>...</td>\n",
       "      <td>0.164973</td>\n",
       "      <td>-0.218735</td>\n",
       "      <td>-0.682241</td>\n",
       "      <td>-0.208660</td>\n",
       "      <td>0.958966</td>\n",
       "      <td>0.234383</td>\n",
       "      <td>-0.553697</td>\n",
       "      <td>-0.617679</td>\n",
       "      <td>-0.437372</td>\n",
       "      <td>-0.377913</td>\n",
       "    </tr>\n",
       "    <tr>\n",
       "      <th>191359</th>\n",
       "      <td>1.177824</td>\n",
       "      <td>2.487103</td>\n",
       "      <td>-5.330608</td>\n",
       "      <td>5.324547</td>\n",
       "      <td>1.150243</td>\n",
       "      <td>-1.281843</td>\n",
       "      <td>-1.171994</td>\n",
       "      <td>0.413778</td>\n",
       "      <td>-2.659840</td>\n",
       "      <td>-2.971695</td>\n",
       "      <td>...</td>\n",
       "      <td>0.156057</td>\n",
       "      <td>0.262325</td>\n",
       "      <td>-0.431790</td>\n",
       "      <td>-0.092088</td>\n",
       "      <td>0.145216</td>\n",
       "      <td>0.457788</td>\n",
       "      <td>0.167739</td>\n",
       "      <td>0.451243</td>\n",
       "      <td>0.268421</td>\n",
       "      <td>-0.400422</td>\n",
       "    </tr>\n",
       "  </tbody>\n",
       "</table>\n",
       "<p>5 rows × 29 columns</p>\n",
       "</div>"
      ],
      "text/plain": [
       "               V1         V2         V3        V4         V5        V6  \\\n",
       "105008   1.197635  -0.123635  -1.200728  0.292578   2.152922  3.619084   \n",
       "148774   0.084052   0.844449   0.650038 -0.507115   0.633558 -0.762991   \n",
       "15736  -23.914101  13.765942 -25.733734  6.290918 -17.784824 -4.572498   \n",
       "83376   -0.869154   1.063008   0.531097 -0.434466   2.297790  3.836094   \n",
       "191359   1.177824   2.487103  -5.330608  5.324547   1.150243 -1.281843   \n",
       "\n",
       "               V7         V8        V9       V10  ...       V20       V21  \\\n",
       "105008  -0.393989   0.840332  0.168453 -0.034109  ...  0.030458 -0.162831   \n",
       "148774   1.048708  -0.375754  1.098719 -0.409608  ...  0.017765 -0.400162   \n",
       "15736  -17.390764  15.794136 -3.819832 -8.442262  ...  1.640037  1.773399   \n",
       "83376    0.036158   0.900121 -0.515299  0.055713  ...  0.164973 -0.218735   \n",
       "191359  -1.171994   0.413778 -2.659840 -2.971695  ...  0.156057  0.262325   \n",
       "\n",
       "             V22       V23       V24       V25       V26       V27       V28  \\\n",
       "105008 -0.498759 -0.156572  1.011622  0.880720 -0.330255  0.018915  0.018378   \n",
       "148774 -0.590827  0.052423  0.012767 -0.574631  0.047372  0.052227 -0.140604   \n",
       "15736  -1.748426 -1.093104  0.147807  1.663792 -0.221024  1.458076  0.430315   \n",
       "83376  -0.682241 -0.208660  0.958966  0.234383 -0.553697 -0.617679 -0.437372   \n",
       "191359 -0.431790 -0.092088  0.145216  0.457788  0.167739  0.451243  0.268421   \n",
       "\n",
       "          Amount  \n",
       "105008 -0.235432  \n",
       "148774 -0.382310  \n",
       "15736   0.017747  \n",
       "83376  -0.377913  \n",
       "191359 -0.400422  \n",
       "\n",
       "[5 rows x 29 columns]"
      ]
     },
     "execution_count": 258,
     "metadata": {},
     "output_type": "execute_result"
    }
   ],
   "source": [
    "#Transforing the Test set\n",
    "X_test['Amount'] = scaler.transform(X_test[['Amount']])\n",
    "X_test.head()"
   ]
  },
  {
   "cell_type": "markdown",
   "id": "ca9ca892",
   "metadata": {},
   "source": [
    "# Model building"
   ]
  },
  {
   "cell_type": "markdown",
   "id": "57e091be",
   "metadata": {},
   "source": [
    "## Logistic Regression"
   ]
  },
  {
   "cell_type": "code",
   "execution_count": 259,
   "id": "4c2c3ddd",
   "metadata": {},
   "outputs": [],
   "source": [
    "from sklearn.linear_model import LogisticRegression\n",
    "from sklearn import metrics\n",
    "from sklearn.metrics import confusion_matrix\n",
    "from sklearn.metrics import f1_score\n",
    "from sklearn.metrics import classification_report"
   ]
  },
  {
   "cell_type": "markdown",
   "id": "e3097403",
   "metadata": {},
   "source": [
    "#### Tuning Hyperparameter C"
   ]
  },
  {
   "cell_type": "markdown",
   "id": "12f14d76",
   "metadata": {},
   "source": [
    "C is the Inverse of regularization strenght in Logistic Regression. High values of C correspond to less regularization."
   ]
  },
  {
   "cell_type": "code",
   "execution_count": 260,
   "id": "7a4694f8",
   "metadata": {},
   "outputs": [],
   "source": [
    "#Libraries for Cross Validation CV\n",
    "from sklearn.model_selection import KFold\n",
    "from sklearn.model_selection import cross_val_score\n",
    "from sklearn.model_selection import GridSearchCV"
   ]
  },
  {
   "cell_type": "code",
   "execution_count": 261,
   "id": "5b698e68",
   "metadata": {},
   "outputs": [
    {
     "name": "stdout",
     "output_type": "stream",
     "text": [
      "Fitting 5 folds for each of 6 candidates, totalling 30 fits\n"
     ]
    },
    {
     "data": {
      "text/plain": [
       "GridSearchCV(cv=KFold(n_splits=5, random_state=4, shuffle=True),\n",
       "             estimator=LogisticRegression(),\n",
       "             param_grid={'C': [0.01, 0.1, 1, 10, 100, 1000]},\n",
       "             return_train_score=True, scoring='roc_auc', verbose=1)"
      ]
     },
     "execution_count": 261,
     "metadata": {},
     "output_type": "execute_result"
    }
   ],
   "source": [
    "#Let's creat KFold with 5 splits\n",
    "folds = KFold(n_splits=5, shuffle=True, random_state=4)\n",
    "\n",
    "#Specify Parameters\n",
    "params = {\"C\":[0.01, 0.1, 1, 10, 100, 1000]}\n",
    "\n",
    "#The focus is on achieving higher sensitivity than accuracy, so we provide it as a reminder of the score.\n",
    "model_cv = GridSearchCV(estimator = LogisticRegression(),\n",
    "                       param_grid = params,\n",
    "                       scoring = 'roc_auc',\n",
    "                       cv = folds,\n",
    "                       verbose = 1,\n",
    "                       return_train_score = True)\n",
    "\n",
    "#Fit model\n",
    "model_cv.fit(X_train, y_train)"
   ]
  },
  {
   "cell_type": "code",
   "execution_count": 262,
   "id": "3345a3df",
   "metadata": {},
   "outputs": [
    {
     "data": {
      "text/html": [
       "<div>\n",
       "<style scoped>\n",
       "    .dataframe tbody tr th:only-of-type {\n",
       "        vertical-align: middle;\n",
       "    }\n",
       "\n",
       "    .dataframe tbody tr th {\n",
       "        vertical-align: top;\n",
       "    }\n",
       "\n",
       "    .dataframe thead th {\n",
       "        text-align: right;\n",
       "    }\n",
       "</style>\n",
       "<table border=\"1\" class=\"dataframe\">\n",
       "  <thead>\n",
       "    <tr style=\"text-align: right;\">\n",
       "      <th></th>\n",
       "      <th>mean_fit_time</th>\n",
       "      <th>std_fit_time</th>\n",
       "      <th>mean_score_time</th>\n",
       "      <th>std_score_time</th>\n",
       "      <th>param_C</th>\n",
       "      <th>params</th>\n",
       "      <th>split0_test_score</th>\n",
       "      <th>split1_test_score</th>\n",
       "      <th>split2_test_score</th>\n",
       "      <th>split3_test_score</th>\n",
       "      <th>...</th>\n",
       "      <th>mean_test_score</th>\n",
       "      <th>std_test_score</th>\n",
       "      <th>rank_test_score</th>\n",
       "      <th>split0_train_score</th>\n",
       "      <th>split1_train_score</th>\n",
       "      <th>split2_train_score</th>\n",
       "      <th>split3_train_score</th>\n",
       "      <th>split4_train_score</th>\n",
       "      <th>mean_train_score</th>\n",
       "      <th>std_train_score</th>\n",
       "    </tr>\n",
       "  </thead>\n",
       "  <tbody>\n",
       "    <tr>\n",
       "      <th>0</th>\n",
       "      <td>0.056049</td>\n",
       "      <td>0.026315</td>\n",
       "      <td>0.006782</td>\n",
       "      <td>0.000398</td>\n",
       "      <td>0.01</td>\n",
       "      <td>{'C': 0.01}</td>\n",
       "      <td>0.984727</td>\n",
       "      <td>0.985119</td>\n",
       "      <td>0.976559</td>\n",
       "      <td>0.965961</td>\n",
       "      <td>...</td>\n",
       "      <td>0.980220</td>\n",
       "      <td>0.008167</td>\n",
       "      <td>1</td>\n",
       "      <td>0.984658</td>\n",
       "      <td>0.984848</td>\n",
       "      <td>0.986579</td>\n",
       "      <td>0.990244</td>\n",
       "      <td>0.983463</td>\n",
       "      <td>0.985959</td>\n",
       "      <td>0.002362</td>\n",
       "    </tr>\n",
       "    <tr>\n",
       "      <th>1</th>\n",
       "      <td>0.041287</td>\n",
       "      <td>0.007291</td>\n",
       "      <td>0.007181</td>\n",
       "      <td>0.001933</td>\n",
       "      <td>0.1</td>\n",
       "      <td>{'C': 0.1}</td>\n",
       "      <td>0.980790</td>\n",
       "      <td>0.985276</td>\n",
       "      <td>0.972027</td>\n",
       "      <td>0.965647</td>\n",
       "      <td>...</td>\n",
       "      <td>0.978464</td>\n",
       "      <td>0.008483</td>\n",
       "      <td>2</td>\n",
       "      <td>0.987969</td>\n",
       "      <td>0.989501</td>\n",
       "      <td>0.988943</td>\n",
       "      <td>0.992393</td>\n",
       "      <td>0.987783</td>\n",
       "      <td>0.989318</td>\n",
       "      <td>0.001662</td>\n",
       "    </tr>\n",
       "    <tr>\n",
       "      <th>2</th>\n",
       "      <td>0.058842</td>\n",
       "      <td>0.014091</td>\n",
       "      <td>0.006385</td>\n",
       "      <td>0.001019</td>\n",
       "      <td>1</td>\n",
       "      <td>{'C': 1}</td>\n",
       "      <td>0.979531</td>\n",
       "      <td>0.985432</td>\n",
       "      <td>0.963901</td>\n",
       "      <td>0.963922</td>\n",
       "      <td>...</td>\n",
       "      <td>0.975396</td>\n",
       "      <td>0.009582</td>\n",
       "      <td>5</td>\n",
       "      <td>0.989912</td>\n",
       "      <td>0.991779</td>\n",
       "      <td>0.990076</td>\n",
       "      <td>0.993281</td>\n",
       "      <td>0.991233</td>\n",
       "      <td>0.991256</td>\n",
       "      <td>0.001231</td>\n",
       "    </tr>\n",
       "    <tr>\n",
       "      <th>3</th>\n",
       "      <td>0.093350</td>\n",
       "      <td>0.012338</td>\n",
       "      <td>0.008379</td>\n",
       "      <td>0.002239</td>\n",
       "      <td>10</td>\n",
       "      <td>{'C': 10}</td>\n",
       "      <td>0.980790</td>\n",
       "      <td>0.985276</td>\n",
       "      <td>0.967651</td>\n",
       "      <td>0.965020</td>\n",
       "      <td>...</td>\n",
       "      <td>0.974427</td>\n",
       "      <td>0.007664</td>\n",
       "      <td>6</td>\n",
       "      <td>0.991357</td>\n",
       "      <td>0.992336</td>\n",
       "      <td>0.990379</td>\n",
       "      <td>0.993584</td>\n",
       "      <td>0.993647</td>\n",
       "      <td>0.992261</td>\n",
       "      <td>0.001268</td>\n",
       "    </tr>\n",
       "    <tr>\n",
       "      <th>4</th>\n",
       "      <td>0.102926</td>\n",
       "      <td>0.008232</td>\n",
       "      <td>0.007977</td>\n",
       "      <td>0.002091</td>\n",
       "      <td>100</td>\n",
       "      <td>{'C': 100}</td>\n",
       "      <td>0.981893</td>\n",
       "      <td>0.985119</td>\n",
       "      <td>0.973902</td>\n",
       "      <td>0.967059</td>\n",
       "      <td>...</td>\n",
       "      <td>0.975930</td>\n",
       "      <td>0.006646</td>\n",
       "      <td>4</td>\n",
       "      <td>0.991777</td>\n",
       "      <td>0.992727</td>\n",
       "      <td>0.990818</td>\n",
       "      <td>0.993867</td>\n",
       "      <td>0.994459</td>\n",
       "      <td>0.992730</td>\n",
       "      <td>0.001330</td>\n",
       "    </tr>\n",
       "    <tr>\n",
       "      <th>5</th>\n",
       "      <td>0.072006</td>\n",
       "      <td>0.014374</td>\n",
       "      <td>0.006583</td>\n",
       "      <td>0.002149</td>\n",
       "      <td>1000</td>\n",
       "      <td>{'C': 1000}</td>\n",
       "      <td>0.981420</td>\n",
       "      <td>0.984179</td>\n",
       "      <td>0.976871</td>\n",
       "      <td>0.968941</td>\n",
       "      <td>...</td>\n",
       "      <td>0.976994</td>\n",
       "      <td>0.005439</td>\n",
       "      <td>3</td>\n",
       "      <td>0.992129</td>\n",
       "      <td>0.993099</td>\n",
       "      <td>0.991072</td>\n",
       "      <td>0.994072</td>\n",
       "      <td>0.995025</td>\n",
       "      <td>0.993079</td>\n",
       "      <td>0.001393</td>\n",
       "    </tr>\n",
       "  </tbody>\n",
       "</table>\n",
       "<p>6 rows × 21 columns</p>\n",
       "</div>"
      ],
      "text/plain": [
       "   mean_fit_time  std_fit_time  mean_score_time  std_score_time param_C  \\\n",
       "0       0.056049      0.026315         0.006782        0.000398    0.01   \n",
       "1       0.041287      0.007291         0.007181        0.001933     0.1   \n",
       "2       0.058842      0.014091         0.006385        0.001019       1   \n",
       "3       0.093350      0.012338         0.008379        0.002239      10   \n",
       "4       0.102926      0.008232         0.007977        0.002091     100   \n",
       "5       0.072006      0.014374         0.006583        0.002149    1000   \n",
       "\n",
       "        params  split0_test_score  split1_test_score  split2_test_score  \\\n",
       "0  {'C': 0.01}           0.984727           0.985119           0.976559   \n",
       "1   {'C': 0.1}           0.980790           0.985276           0.972027   \n",
       "2     {'C': 1}           0.979531           0.985432           0.963901   \n",
       "3    {'C': 10}           0.980790           0.985276           0.967651   \n",
       "4   {'C': 100}           0.981893           0.985119           0.973902   \n",
       "5  {'C': 1000}           0.981420           0.984179           0.976871   \n",
       "\n",
       "   split3_test_score  ...  mean_test_score  std_test_score  rank_test_score  \\\n",
       "0           0.965961  ...         0.980220        0.008167                1   \n",
       "1           0.965647  ...         0.978464        0.008483                2   \n",
       "2           0.963922  ...         0.975396        0.009582                5   \n",
       "3           0.965020  ...         0.974427        0.007664                6   \n",
       "4           0.967059  ...         0.975930        0.006646                4   \n",
       "5           0.968941  ...         0.976994        0.005439                3   \n",
       "\n",
       "   split0_train_score  split1_train_score  split2_train_score  \\\n",
       "0            0.984658            0.984848            0.986579   \n",
       "1            0.987969            0.989501            0.988943   \n",
       "2            0.989912            0.991779            0.990076   \n",
       "3            0.991357            0.992336            0.990379   \n",
       "4            0.991777            0.992727            0.990818   \n",
       "5            0.992129            0.993099            0.991072   \n",
       "\n",
       "   split3_train_score  split4_train_score  mean_train_score  std_train_score  \n",
       "0            0.990244            0.983463          0.985959         0.002362  \n",
       "1            0.992393            0.987783          0.989318         0.001662  \n",
       "2            0.993281            0.991233          0.991256         0.001231  \n",
       "3            0.993584            0.993647          0.992261         0.001268  \n",
       "4            0.993867            0.994459          0.992730         0.001330  \n",
       "5            0.994072            0.995025          0.993079         0.001393  \n",
       "\n",
       "[6 rows x 21 columns]"
      ]
     },
     "execution_count": 262,
     "metadata": {},
     "output_type": "execute_result"
    }
   ],
   "source": [
    "#Results of GridSearchCV\n",
    "cv_results = pd.DataFrame(model_cv.cv_results_)\n",
    "cv_results"
   ]
  },
  {
   "cell_type": "code",
   "execution_count": 263,
   "id": "536f5c5c",
   "metadata": {},
   "outputs": [
    {
     "data": {
      "image/png": "[encoded data removed]",
      "text/plain": [
       "<Figure size 720x432 with 1 Axes>"
      ]
     },
     "metadata": {
      "needs_background": "light"
     },
     "output_type": "display_data"
    }
   ],
   "source": [
    "# plot of C versus train and validation scores\n",
    "\n",
    "plt.figure(figsize=(10,6))\n",
    "plt.plot(cv_results['param_C'], cv_results['mean_test_score'])\n",
    "plt.plot(cv_results['param_C'], cv_results['mean_train_score'])\n",
    "plt.xlabel('C')\n",
    "plt.ylabel('roc_auc')\n",
    "plt.legend(['test result','train_result'], loc='upper left')\n",
    "plt.xscale('log')"
   ]
  },
  {
   "cell_type": "code",
   "execution_count": 264,
   "id": "84d4c2fd",
   "metadata": {},
   "outputs": [
    {
     "name": "stdout",
     "output_type": "stream",
     "text": [
      "The highest test roc_auc is 0.980219928266963 at C = 0.01\n"
     ]
    }
   ],
   "source": [
    "# Best score with best C\n",
    "best_score = model_cv.best_score_\n",
    "best_C = model_cv.best_params_['C']\n",
    "\n",
    "print('The highest test roc_auc is {0} at C = {1}'.format(best_score, best_C))"
   ]
  },
  {
   "cell_type": "markdown",
   "id": "b1e67f44",
   "metadata": {},
   "source": [
    "#### Logistic Regression With Optimal C"
   ]
  },
  {
   "cell_type": "code",
   "execution_count": 265,
   "id": "24a6a749",
   "metadata": {},
   "outputs": [],
   "source": [
    "#Instantiate the model with best C\n",
    "logistic_imb = LogisticRegression(C=0.01)\n",
    "\n",
    "#Fit the model on the train set\n",
    "logistic_imb_model = logistic_imb.fit(X_train, y_train)"
   ]
  },
  {
   "cell_type": "markdown",
   "id": "b4f613ce",
   "metadata": {},
   "source": [
    "#### Prediction on the train set"
   ]
  },
  {
   "cell_type": "code",
   "execution_count": 266,
   "id": "47d4eb37",
   "metadata": {},
   "outputs": [],
   "source": [
    "#Predictions on the training set\n",
    "y_train_pred = logistic_imb_model.predict(X_train)"
   ]
  },
  {
   "cell_type": "code",
   "execution_count": 267,
   "id": "80b6d5e5",
   "metadata": {},
   "outputs": [
    {
     "name": "stdout",
     "output_type": "stream",
     "text": [
      "[[387   7]\n",
      " [ 48 358]]\n"
     ]
    }
   ],
   "source": [
    "#Confusion Matrix\n",
    "confusion = metrics.confusion_matrix(y_train, y_train_pred)\n",
    "print(confusion)"
   ]
  },
  {
   "cell_type": "code",
   "execution_count": 268,
   "id": "5ffd6bdc",
   "metadata": {},
   "outputs": [],
   "source": [
    "TP = confusion[1,1] #True Positive\n",
    "TN = confusion[0,0] #True Negative\n",
    "FP = confusion[0,1] #False positive\n",
    "FN = confusion[1,0] #False negative"
   ]
  },
  {
   "cell_type": "code",
   "execution_count": 269,
   "id": "859cacf5",
   "metadata": {},
   "outputs": [
    {
     "name": "stdout",
     "output_type": "stream",
     "text": [
      "Accuracy: 0.93125\n",
      "Sensitivity: 0.8817733990147784\n",
      "Specificity: 0.9822335025380711\n",
      "F1 Score: 0.9286640726329443\n"
     ]
    }
   ],
   "source": [
    "#Accuracy\n",
    "print(\"Accuracy:\", metrics.accuracy_score(y_train, y_train_pred))\n",
    "\n",
    "#Sensitivity\n",
    "print(\"Sensitivity:\", TP / float(TP+FN))\n",
    "\n",
    "#Specificity\n",
    "print(\"Specificity:\", TN / float(TN+FP))\n",
    "\n",
    "#F1 Score\n",
    "print(\"F1 Score:\", f1_score(y_train, y_train_pred))"
   ]
  },
  {
   "cell_type": "code",
   "execution_count": 270,
   "id": "8aa6bd2c",
   "metadata": {},
   "outputs": [
    {
     "name": "stdout",
     "output_type": "stream",
     "text": [
      "              precision    recall  f1-score   support\n",
      "\n",
      "           0       0.89      0.98      0.93       394\n",
      "           1       0.98      0.88      0.93       406\n",
      "\n",
      "    accuracy                           0.93       800\n",
      "   macro avg       0.94      0.93      0.93       800\n",
      "weighted avg       0.94      0.93      0.93       800\n",
      "\n"
     ]
    }
   ],
   "source": [
    "#Classification_report\n",
    "print(classification_report(y_train,y_train_pred))"
   ]
  },
  {
   "cell_type": "markdown",
   "id": "89d202fe",
   "metadata": {},
   "source": [
    "#### ROC on the train set"
   ]
  },
  {
   "cell_type": "code",
   "execution_count": 271,
   "id": "c7366636",
   "metadata": {},
   "outputs": [],
   "source": [
    "# ROC Curve funtion\n",
    "def draw_ROC(actual,probs):\n",
    "    fpr, tpr, thresholds = metrics.roc_curve(actual, probs, drop_intermediate = False)\n",
    "    auc_score = metrics.roc_auc_score(actual, probs)\n",
    "    plt.figure(figsize=(5,5))\n",
    "    plt.plot(fpr, tpr, label='ROC curve (area = %0.2f)' % auc_score)\n",
    "    plt.plot([0,1],[0,1],'k--')\n",
    "    plt.xlim([0.0, 1.0])\n",
    "    plt.ylim([0.0, 1.05])\n",
    "    plt.xlabel('False Positive Rate or [1 - True Negative Rate]')\n",
    "    plt.ylabel('True Positive Rate')\n",
    "    plt.title('Receiver operating characteristic example')\n",
    "    plt.legend(loc=\"lower right\")\n",
    "    plt.show()\n",
    "    \n",
    "    return None"
   ]
  },
  {
   "cell_type": "code",
   "execution_count": 272,
   "id": "e7f9abbe",
   "metadata": {},
   "outputs": [],
   "source": [
    "#predicted probability\n",
    "y_train_pred_proba = logistic_imb_model.predict_proba(X_train)[:,1]"
   ]
  },
  {
   "cell_type": "code",
   "execution_count": 273,
   "id": "54f10968",
   "metadata": {},
   "outputs": [
    {
     "data": {
      "image/png": "[encoded data removed]",
      "text/plain": [
       "<Figure size 360x360 with 1 Axes>"
      ]
     },
     "metadata": {
      "needs_background": "light"
     },
     "output_type": "display_data"
    }
   ],
   "source": [
    "#plot the ROC curve\n",
    "draw_ROC(y_train,y_train_pred_proba)"
   ]
  },
  {
   "cell_type": "markdown",
   "id": "f850c7a2",
   "metadata": {},
   "source": [
    "We acheived very good ROC 0.99 on the train set"
   ]
  },
  {
   "cell_type": "markdown",
   "id": "6e74e3bf",
   "metadata": {},
   "source": [
    "#### Prediction on the test set"
   ]
  },
  {
   "cell_type": "code",
   "execution_count": 274,
   "id": "f4ab59ea",
   "metadata": {},
   "outputs": [],
   "source": [
    "#prediction on the testing set\n",
    "y_test_pred = logistic_imb_model.predict(X_test)"
   ]
  },
  {
   "cell_type": "code",
   "execution_count": 275,
   "id": "b172a071",
   "metadata": {},
   "outputs": [
    {
     "data": {
      "text/plain": [
       "array([[104,   2],\n",
       "       [ 11,  83]], dtype=int64)"
      ]
     },
     "execution_count": 275,
     "metadata": {},
     "output_type": "execute_result"
    }
   ],
   "source": [
    "# Confusion matrix\n",
    "confusion = metrics.confusion_matrix(y_test, y_test_pred)\n",
    "confusion"
   ]
  },
  {
   "cell_type": "code",
   "execution_count": 276,
   "id": "6430da7c",
   "metadata": {},
   "outputs": [
    {
     "name": "stdout",
     "output_type": "stream",
     "text": [
      "Accuracy: 0.935\n",
      "Sensitivity: 0.8817733990147784\n",
      "Specificity: 0.9822335025380711\n",
      "F1 Score: 0.9273743016759776\n"
     ]
    }
   ],
   "source": [
    "#Accuracy\n",
    "print(\"Accuracy:\", metrics.accuracy_score(y_test, y_test_pred))\n",
    "\n",
    "#Sensitivity\n",
    "print(\"Sensitivity:\", TP / float(TP+FN))\n",
    "\n",
    "#Specificity\n",
    "print(\"Specificity:\", TN / float(TN+FP))\n",
    "\n",
    "# F1 score\n",
    "print(\"F1 Score:\", f1_score(y_test, y_test_pred))"
   ]
  },
  {
   "cell_type": "code",
   "execution_count": 277,
   "id": "67d25a96",
   "metadata": {},
   "outputs": [
    {
     "name": "stdout",
     "output_type": "stream",
     "text": [
      "              precision    recall  f1-score   support\n",
      "\n",
      "           0       0.90      0.98      0.94       106\n",
      "           1       0.98      0.88      0.93        94\n",
      "\n",
      "    accuracy                           0.94       200\n",
      "   macro avg       0.94      0.93      0.93       200\n",
      "weighted avg       0.94      0.94      0.93       200\n",
      "\n"
     ]
    }
   ],
   "source": [
    "#Classification report\n",
    "print(classification_report(y_test,y_test_pred))"
   ]
  },
  {
   "cell_type": "markdown",
   "id": "acd6ecd0",
   "metadata": {},
   "source": [
    "#### ROC on the test set"
   ]
  },
  {
   "cell_type": "code",
   "execution_count": 278,
   "id": "6dcdb94d",
   "metadata": {},
   "outputs": [],
   "source": [
    "#Prediction probability\n",
    "y_test_pred_proba = logistic_imb_model.predict_proba(X_test)[:,1]"
   ]
  },
  {
   "cell_type": "code",
   "execution_count": 279,
   "id": "5989a8d6",
   "metadata": {},
   "outputs": [
    {
     "data": {
      "image/png": "[encoded data removed]",
      "text/plain": [
       "<Figure size 360x360 with 1 Axes>"
      ]
     },
     "metadata": {
      "needs_background": "light"
     },
     "output_type": "display_data"
    }
   ],
   "source": [
    "# plot the ROC curve\n",
    "draw_ROC(y_test, y_test_pred_proba)"
   ]
  },
  {
   "cell_type": "markdown",
   "id": "bdb6342b",
   "metadata": {},
   "source": [
    "We can see that we have very good ROC on the test set 0.98, which is almost close to 1."
   ]
  },
  {
   "cell_type": "markdown",
   "id": "29c4d8df",
   "metadata": {},
   "source": [
    "***Model Summary***\n",
    "\n",
    "- Train set\n",
    "    - Accuracy: 0.93125\n",
    "    - Sensitivity: 0.8817733990147784\n",
    "    - Specificity: 0.9822335025380711\n",
    "    - F1 Score: 0.9286640726329443\n",
    "    - ROC: 0.99\n",
    "- Test set\n",
    "    - Accuracy: 0.935\n",
    "    - Sensitivity: 0.8817733990147784\n",
    "    - Specificity: 0.9822335025380711\n",
    "    - F1 Score: 0.9273743016759776\n",
    "    - ROC : 0.98\n",
    "    \n",
    "We can see that the Logistic regression model is performing well in the test set, what it had learnt from the train set."
   ]
  },
  {
   "cell_type": "markdown",
   "id": "afee42a7",
   "metadata": {},
   "source": [
    "## Decision Tree"
   ]
  },
  {
   "cell_type": "code",
   "execution_count": 280,
   "id": "ed05ccb8",
   "metadata": {},
   "outputs": [],
   "source": [
    "#importing the decision tree classifier\n",
    "from sklearn.tree import DecisionTreeClassifier"
   ]
  },
  {
   "cell_type": "code",
   "execution_count": 281,
   "id": "26b3d284",
   "metadata": {},
   "outputs": [
    {
     "name": "stdout",
     "output_type": "stream",
     "text": [
      "Fitting 3 folds for each of 8 candidates, totalling 24 fits\n"
     ]
    },
    {
     "data": {
      "text/plain": [
       "GridSearchCV(cv=3, estimator=DecisionTreeClassifier(),\n",
       "             param_grid={'max_depth': range(5, 15, 5),\n",
       "                         'min_samples_leaf': range(50, 150, 50),\n",
       "                         'min_samples_split': range(50, 150, 50)},\n",
       "             scoring='roc_auc', verbose=1)"
      ]
     },
     "execution_count": 281,
     "metadata": {},
     "output_type": "execute_result"
    }
   ],
   "source": [
    "#Let's create the parameter grid\n",
    "param_grid = {\n",
    "    'max_depth': range(5,15,5),\n",
    "    'min_samples_leaf': range(50,150,50),\n",
    "    'min_samples_split': range(50,150,50),\n",
    "}\n",
    "\n",
    "#Let's Instantiate the grid search model\n",
    "dtree = DecisionTreeClassifier()\n",
    "\n",
    "grid_search = GridSearchCV(estimator = dtree,\n",
    "                          param_grid = param_grid,\n",
    "                          scoring = 'roc_auc',\n",
    "                          cv = 3,\n",
    "                          verbose = 1)\n",
    "\n",
    "#Let's fit the grid search to the Data\n",
    "grid_search.fit(X_train,y_train)"
   ]
  },
  {
   "cell_type": "code",
   "execution_count": 282,
   "id": "942604e6",
   "metadata": {},
   "outputs": [
    {
     "data": {
      "text/html": [
       "<div>\n",
       "<style scoped>\n",
       "    .dataframe tbody tr th:only-of-type {\n",
       "        vertical-align: middle;\n",
       "    }\n",
       "\n",
       "    .dataframe tbody tr th {\n",
       "        vertical-align: top;\n",
       "    }\n",
       "\n",
       "    .dataframe thead th {\n",
       "        text-align: right;\n",
       "    }\n",
       "</style>\n",
       "<table border=\"1\" class=\"dataframe\">\n",
       "  <thead>\n",
       "    <tr style=\"text-align: right;\">\n",
       "      <th></th>\n",
       "      <th>mean_fit_time</th>\n",
       "      <th>std_fit_time</th>\n",
       "      <th>mean_score_time</th>\n",
       "      <th>std_score_time</th>\n",
       "      <th>param_max_depth</th>\n",
       "      <th>param_min_samples_leaf</th>\n",
       "      <th>param_min_samples_split</th>\n",
       "      <th>params</th>\n",
       "      <th>split0_test_score</th>\n",
       "      <th>split1_test_score</th>\n",
       "      <th>split2_test_score</th>\n",
       "      <th>mean_test_score</th>\n",
       "      <th>std_test_score</th>\n",
       "      <th>rank_test_score</th>\n",
       "    </tr>\n",
       "  </thead>\n",
       "  <tbody>\n",
       "    <tr>\n",
       "      <th>0</th>\n",
       "      <td>0.012304</td>\n",
       "      <td>0.002046</td>\n",
       "      <td>0.006313</td>\n",
       "      <td>0.002616</td>\n",
       "      <td>5</td>\n",
       "      <td>50</td>\n",
       "      <td>50</td>\n",
       "      <td>{'max_depth': 5, 'min_samples_leaf': 50, 'min_...</td>\n",
       "      <td>0.964049</td>\n",
       "      <td>0.960943</td>\n",
       "      <td>0.974640</td>\n",
       "      <td>0.966544</td>\n",
       "      <td>0.005863</td>\n",
       "      <td>4</td>\n",
       "    </tr>\n",
       "    <tr>\n",
       "      <th>1</th>\n",
       "      <td>0.015953</td>\n",
       "      <td>0.002151</td>\n",
       "      <td>0.007312</td>\n",
       "      <td>0.003290</td>\n",
       "      <td>5</td>\n",
       "      <td>50</td>\n",
       "      <td>100</td>\n",
       "      <td>{'max_depth': 5, 'min_samples_leaf': 50, 'min_...</td>\n",
       "      <td>0.973198</td>\n",
       "      <td>0.958361</td>\n",
       "      <td>0.973000</td>\n",
       "      <td>0.968186</td>\n",
       "      <td>0.006948</td>\n",
       "      <td>2</td>\n",
       "    </tr>\n",
       "    <tr>\n",
       "      <th>2</th>\n",
       "      <td>0.009976</td>\n",
       "      <td>0.002157</td>\n",
       "      <td>0.006314</td>\n",
       "      <td>0.002859</td>\n",
       "      <td>5</td>\n",
       "      <td>100</td>\n",
       "      <td>50</td>\n",
       "      <td>{'max_depth': 5, 'min_samples_leaf': 100, 'min...</td>\n",
       "      <td>0.965284</td>\n",
       "      <td>0.955640</td>\n",
       "      <td>0.965055</td>\n",
       "      <td>0.961993</td>\n",
       "      <td>0.004493</td>\n",
       "      <td>5</td>\n",
       "    </tr>\n",
       "    <tr>\n",
       "      <th>3</th>\n",
       "      <td>0.011301</td>\n",
       "      <td>0.002618</td>\n",
       "      <td>0.006983</td>\n",
       "      <td>0.002445</td>\n",
       "      <td>5</td>\n",
       "      <td>100</td>\n",
       "      <td>100</td>\n",
       "      <td>{'max_depth': 5, 'min_samples_leaf': 100, 'min...</td>\n",
       "      <td>0.964161</td>\n",
       "      <td>0.955527</td>\n",
       "      <td>0.963274</td>\n",
       "      <td>0.960988</td>\n",
       "      <td>0.003878</td>\n",
       "      <td>8</td>\n",
       "    </tr>\n",
       "    <tr>\n",
       "      <th>4</th>\n",
       "      <td>0.013961</td>\n",
       "      <td>0.001630</td>\n",
       "      <td>0.008645</td>\n",
       "      <td>0.003082</td>\n",
       "      <td>10</td>\n",
       "      <td>50</td>\n",
       "      <td>50</td>\n",
       "      <td>{'max_depth': 10, 'min_samples_leaf': 50, 'min...</td>\n",
       "      <td>0.974096</td>\n",
       "      <td>0.960494</td>\n",
       "      <td>0.972576</td>\n",
       "      <td>0.969055</td>\n",
       "      <td>0.006086</td>\n",
       "      <td>1</td>\n",
       "    </tr>\n",
       "    <tr>\n",
       "      <th>5</th>\n",
       "      <td>0.010639</td>\n",
       "      <td>0.000939</td>\n",
       "      <td>0.007312</td>\n",
       "      <td>0.001244</td>\n",
       "      <td>10</td>\n",
       "      <td>50</td>\n",
       "      <td>100</td>\n",
       "      <td>{'max_depth': 10, 'min_samples_leaf': 50, 'min...</td>\n",
       "      <td>0.970167</td>\n",
       "      <td>0.960606</td>\n",
       "      <td>0.972745</td>\n",
       "      <td>0.967840</td>\n",
       "      <td>0.005222</td>\n",
       "      <td>3</td>\n",
       "    </tr>\n",
       "    <tr>\n",
       "      <th>6</th>\n",
       "      <td>0.007313</td>\n",
       "      <td>0.000939</td>\n",
       "      <td>0.004655</td>\n",
       "      <td>0.001245</td>\n",
       "      <td>10</td>\n",
       "      <td>100</td>\n",
       "      <td>50</td>\n",
       "      <td>{'max_depth': 10, 'min_samples_leaf': 100, 'mi...</td>\n",
       "      <td>0.963937</td>\n",
       "      <td>0.955415</td>\n",
       "      <td>0.964801</td>\n",
       "      <td>0.961384</td>\n",
       "      <td>0.004235</td>\n",
       "      <td>6</td>\n",
       "    </tr>\n",
       "    <tr>\n",
       "      <th>7</th>\n",
       "      <td>0.007644</td>\n",
       "      <td>0.000470</td>\n",
       "      <td>0.005986</td>\n",
       "      <td>0.000814</td>\n",
       "      <td>10</td>\n",
       "      <td>100</td>\n",
       "      <td>100</td>\n",
       "      <td>{'max_depth': 10, 'min_samples_leaf': 100, 'mi...</td>\n",
       "      <td>0.964161</td>\n",
       "      <td>0.955640</td>\n",
       "      <td>0.963783</td>\n",
       "      <td>0.961195</td>\n",
       "      <td>0.003931</td>\n",
       "      <td>7</td>\n",
       "    </tr>\n",
       "  </tbody>\n",
       "</table>\n",
       "</div>"
      ],
      "text/plain": [
       "   mean_fit_time  std_fit_time  mean_score_time  std_score_time  \\\n",
       "0       0.012304      0.002046         0.006313        0.002616   \n",
       "1       0.015953      0.002151         0.007312        0.003290   \n",
       "2       0.009976      0.002157         0.006314        0.002859   \n",
       "3       0.011301      0.002618         0.006983        0.002445   \n",
       "4       0.013961      0.001630         0.008645        0.003082   \n",
       "5       0.010639      0.000939         0.007312        0.001244   \n",
       "6       0.007313      0.000939         0.004655        0.001245   \n",
       "7       0.007644      0.000470         0.005986        0.000814   \n",
       "\n",
       "  param_max_depth param_min_samples_leaf param_min_samples_split  \\\n",
       "0               5                     50                      50   \n",
       "1               5                     50                     100   \n",
       "2               5                    100                      50   \n",
       "3               5                    100                     100   \n",
       "4              10                     50                      50   \n",
       "5              10                     50                     100   \n",
       "6              10                    100                      50   \n",
       "7              10                    100                     100   \n",
       "\n",
       "                                              params  split0_test_score  \\\n",
       "0  {'max_depth': 5, 'min_samples_leaf': 50, 'min_...           0.964049   \n",
       "1  {'max_depth': 5, 'min_samples_leaf': 50, 'min_...           0.973198   \n",
       "2  {'max_depth': 5, 'min_samples_leaf': 100, 'min...           0.965284   \n",
       "3  {'max_depth': 5, 'min_samples_leaf': 100, 'min...           0.964161   \n",
       "4  {'max_depth': 10, 'min_samples_leaf': 50, 'min...           0.974096   \n",
       "5  {'max_depth': 10, 'min_samples_leaf': 50, 'min...           0.970167   \n",
       "6  {'max_depth': 10, 'min_samples_leaf': 100, 'mi...           0.963937   \n",
       "7  {'max_depth': 10, 'min_samples_leaf': 100, 'mi...           0.964161   \n",
       "\n",
       "   split1_test_score  split2_test_score  mean_test_score  std_test_score  \\\n",
       "0           0.960943           0.974640         0.966544        0.005863   \n",
       "1           0.958361           0.973000         0.968186        0.006948   \n",
       "2           0.955640           0.965055         0.961993        0.004493   \n",
       "3           0.955527           0.963274         0.960988        0.003878   \n",
       "4           0.960494           0.972576         0.969055        0.006086   \n",
       "5           0.960606           0.972745         0.967840        0.005222   \n",
       "6           0.955415           0.964801         0.961384        0.004235   \n",
       "7           0.955640           0.963783         0.961195        0.003931   \n",
       "\n",
       "   rank_test_score  \n",
       "0                4  \n",
       "1                2  \n",
       "2                5  \n",
       "3                8  \n",
       "4                1  \n",
       "5                3  \n",
       "6                6  \n",
       "7                7  "
      ]
     },
     "execution_count": 282,
     "metadata": {},
     "output_type": "execute_result"
    }
   ],
   "source": [
    "# cross validation results\n",
    "cv_results = pd.DataFrame(grid_search.cv_results_)\n",
    "cv_results"
   ]
  },
  {
   "cell_type": "code",
   "execution_count": 283,
   "id": "b71ee289",
   "metadata": {},
   "outputs": [
    {
     "name": "stdout",
     "output_type": "stream",
     "text": [
      "Best roc_auc: 0.9690552580470507\n",
      "DecisionTreeClassifier(max_depth=10, min_samples_leaf=50, min_samples_split=50)\n"
     ]
    }
   ],
   "source": [
    "# Printing the optimal sensitivity score and hyperparameters\n",
    "print('Best roc_auc:', grid_search.best_score_)\n",
    "print(grid_search.best_estimator_)"
   ]
  },
  {
   "cell_type": "code",
   "execution_count": 284,
   "id": "883a62d2",
   "metadata": {},
   "outputs": [
    {
     "data": {
      "text/plain": [
       "DecisionTreeClassifier(max_depth=5, min_samples_leaf=100, min_samples_split=100,\n",
       "                       random_state=100)"
      ]
     },
     "execution_count": 284,
     "metadata": {},
     "output_type": "execute_result"
    }
   ],
   "source": [
    "# Model with optimal hyperparameters\n",
    "dt_imb_model = DecisionTreeClassifier(criterion = 'gini',\n",
    "                                     random_state = 100,\n",
    "                                     max_depth = 5,\n",
    "                                     min_samples_leaf = 100,\n",
    "                                     min_samples_split = 100)\n",
    "\n",
    "#fit the model on the training set\n",
    "dt_imb_model.fit(X_train,y_train)"
   ]
  },
  {
   "cell_type": "markdown",
   "id": "0b25dfce",
   "metadata": {},
   "source": [
    "#### Prediction on the train set"
   ]
  },
  {
   "cell_type": "code",
   "execution_count": 285,
   "id": "706aa212",
   "metadata": {},
   "outputs": [],
   "source": [
    "# Prediction on the train set\n",
    "y_train_pred = dt_imb_model.predict(X_train)"
   ]
  },
  {
   "cell_type": "code",
   "execution_count": 286,
   "id": "b02ebd09",
   "metadata": {},
   "outputs": [
    {
     "data": {
      "text/plain": [
       "array([[378,  16],\n",
       "       [ 45, 361]], dtype=int64)"
      ]
     },
     "execution_count": 286,
     "metadata": {},
     "output_type": "execute_result"
    }
   ],
   "source": [
    "#Confusion matrix\n",
    "confusion = metrics.confusion_matrix(y_train, y_train_pred)\n",
    "confusion"
   ]
  },
  {
   "cell_type": "code",
   "execution_count": 287,
   "id": "585bf84d",
   "metadata": {},
   "outputs": [],
   "source": [
    "TP = confusion[1,1] # True positives\n",
    "TN = confusion[0,0] # True Negatives\n",
    "FP = confusion[0,1] # False positives\n",
    "FN = confusion[1,0] # False negatives"
   ]
  },
  {
   "cell_type": "code",
   "execution_count": 288,
   "id": "8e5d7111",
   "metadata": {},
   "outputs": [
    {
     "name": "stdout",
     "output_type": "stream",
     "text": [
      "Accuracy: 0.92375\n",
      "Sensitivity: 0.8891625615763546\n",
      "Specificity: 0.9593908629441624\n",
      "F1 Score: 0.9220945083014048\n"
     ]
    }
   ],
   "source": [
    "#Accuracy\n",
    "print(\"Accuracy:\", metrics.accuracy_score(y_train,y_train_pred))\n",
    "\n",
    "#Sensitivity\n",
    "print(\"Sensitivity:\", TP / float(TP+FN))\n",
    "\n",
    "#Specificity\n",
    "print(\"Specificity:\", TN / float(TN+FP))\n",
    "\n",
    "#F1 Score\n",
    "print(\"F1 Score:\", f1_score(y_train,y_train_pred))"
   ]
  },
  {
   "cell_type": "code",
   "execution_count": 289,
   "id": "8b07c1aa",
   "metadata": {},
   "outputs": [
    {
     "name": "stdout",
     "output_type": "stream",
     "text": [
      "              precision    recall  f1-score   support\n",
      "\n",
      "           0       0.89      0.96      0.93       394\n",
      "           1       0.96      0.89      0.92       406\n",
      "\n",
      "    accuracy                           0.92       800\n",
      "   macro avg       0.93      0.92      0.92       800\n",
      "weighted avg       0.93      0.92      0.92       800\n",
      "\n"
     ]
    }
   ],
   "source": [
    "#Classification report\n",
    "print(classification_report(y_train,y_train_pred))"
   ]
  },
  {
   "cell_type": "code",
   "execution_count": 290,
   "id": "4914dd90",
   "metadata": {},
   "outputs": [],
   "source": [
    "# Predicted probability \n",
    "y_train_pred_proba = dt_imb_model.predict_proba(X_train)[:,1]"
   ]
  },
  {
   "cell_type": "code",
   "execution_count": 291,
   "id": "67b43ac5",
   "metadata": {},
   "outputs": [
    {
     "data": {
      "text/plain": [
       "0.9738347378160086"
      ]
     },
     "execution_count": 291,
     "metadata": {},
     "output_type": "execute_result"
    }
   ],
   "source": [
    "# roc auc\n",
    "auc = metrics.roc_auc_score(y_train,y_train_pred_proba)\n",
    "auc"
   ]
  },
  {
   "cell_type": "code",
   "execution_count": 292,
   "id": "67f2a571",
   "metadata": {},
   "outputs": [
    {
     "data": {
      "image/png": "[encoded data removed]",
      "text/plain": [
       "<Figure size 360x360 with 1 Axes>"
      ]
     },
     "metadata": {
      "needs_background": "light"
     },
     "output_type": "display_data"
    }
   ],
   "source": [
    "# draw the ROC curve\n",
    "draw_ROC(y_train, y_train_pred_proba)"
   ]
  },
  {
   "cell_type": "markdown",
   "id": "dd51ea6f",
   "metadata": {},
   "source": [
    "#### Prediction on the test set"
   ]
  },
  {
   "cell_type": "code",
   "execution_count": 293,
   "id": "b2ed717c",
   "metadata": {},
   "outputs": [],
   "source": [
    "# Predictions on the testing set\n",
    "y_test_pred = dt_imb_model.predict(X_test)"
   ]
  },
  {
   "cell_type": "code",
   "execution_count": 294,
   "id": "650c950e",
   "metadata": {},
   "outputs": [
    {
     "data": {
      "text/plain": [
       "array([[98,  8],\n",
       "       [10, 84]], dtype=int64)"
      ]
     },
     "execution_count": 294,
     "metadata": {},
     "output_type": "execute_result"
    }
   ],
   "source": [
    "#Confusion matrix\n",
    "confusion = metrics.confusion_matrix(y_test, y_test_pred)\n",
    "confusion"
   ]
  },
  {
   "cell_type": "code",
   "execution_count": 295,
   "id": "7c961a70",
   "metadata": {},
   "outputs": [],
   "source": [
    "TP = confusion[1,1] # True Positives\n",
    "TN = confusion[0,0] # True Negatives\n",
    "FP = confusion[0,1] # False Positives\n",
    "FN = confusion[1,0] # False Negatives"
   ]
  },
  {
   "cell_type": "code",
   "execution_count": 296,
   "id": "ec926197",
   "metadata": {},
   "outputs": [
    {
     "name": "stdout",
     "output_type": "stream",
     "text": [
      "Accuracy: 0.91\n",
      "Sensitivity: 0.9130434782608695\n",
      "Specificity: 0.9074074074074074\n",
      "F1 Score: 0.9032258064516129\n"
     ]
    }
   ],
   "source": [
    "#Accuracy\n",
    "print(\"Accuracy:\", metrics.accuracy_score(y_test, y_test_pred))\n",
    "\n",
    "#Sensitivity\n",
    "print(\"Sensitivity:\", TP / float(TP+FP))\n",
    "\n",
    "#Specificity\n",
    "print(\"Specificity:\", TN / float(TN+FN))\n",
    "\n",
    "#F1 Score\n",
    "print(\"F1 Score:\", f1_score(y_test, y_test_pred))"
   ]
  },
  {
   "cell_type": "code",
   "execution_count": 297,
   "id": "a8cb8e9a",
   "metadata": {},
   "outputs": [
    {
     "name": "stdout",
     "output_type": "stream",
     "text": [
      "              precision    recall  f1-score   support\n",
      "\n",
      "           0       0.91      0.92      0.92       106\n",
      "           1       0.91      0.89      0.90        94\n",
      "\n",
      "    accuracy                           0.91       200\n",
      "   macro avg       0.91      0.91      0.91       200\n",
      "weighted avg       0.91      0.91      0.91       200\n",
      "\n"
     ]
    }
   ],
   "source": [
    "#Classification report\n",
    "print(classification_report(y_test, y_test_pred))"
   ]
  },
  {
   "cell_type": "code",
   "execution_count": 298,
   "id": "738678ba",
   "metadata": {},
   "outputs": [],
   "source": [
    "#Predicted probability\n",
    "y_test_pred_proba = dt_imb_model.predict_proba(X_test)[:,1]"
   ]
  },
  {
   "cell_type": "code",
   "execution_count": 299,
   "id": "3fdbdef4",
   "metadata": {},
   "outputs": [
    {
     "data": {
      "text/plain": [
       "0.9686872741870735"
      ]
     },
     "execution_count": 299,
     "metadata": {},
     "output_type": "execute_result"
    }
   ],
   "source": [
    "# roc auc\n",
    "auc = metrics.roc_auc_score(y_test, y_test_pred_proba)\n",
    "auc"
   ]
  },
  {
   "cell_type": "code",
   "execution_count": 300,
   "id": "b664ef69",
   "metadata": {},
   "outputs": [
    {
     "data": {
      "image/png": "[encoded data removed]",
      "text/plain": [
       "<Figure size 360x360 with 1 Axes>"
      ]
     },
     "metadata": {
      "needs_background": "light"
     },
     "output_type": "display_data"
    }
   ],
   "source": [
    "#plot the roc curve\n",
    "draw_ROC(y_test, y_test_pred_proba)"
   ]
  },
  {
   "cell_type": "markdown",
   "id": "cac96346",
   "metadata": {},
   "source": [
    "***Model summary***\n",
    "- Train set\n",
    "    - Accuracy: 0.92\n",
    "    - Sensitivity: 0.88\n",
    "    - Specificity: 0.95\n",
    "    - F1 Score: 0.92\n",
    "    - Roc-Auc: 0.97\n",
    "- Test set\n",
    "    - Accuracy: 0.91\n",
    "    - Sensitivity: 0.91\n",
    "    - Specificity: 0.90\n",
    "    - F1 Score: 0.90\n",
    "    - Roc-Auc: 0.97"
   ]
  },
  {
   "cell_type": "markdown",
   "id": "9d8dbe39",
   "metadata": {},
   "source": [
    "## KNN (K-Nearest Neighbors)"
   ]
  },
  {
   "cell_type": "code",
   "execution_count": 301,
   "id": "43ebc881",
   "metadata": {},
   "outputs": [],
   "source": [
    "from sklearn.neighbors import KNeighborsClassifier\n",
    "from sklearn.metrics import accuracy_score\n",
    "from collections import Counter"
   ]
  },
  {
   "cell_type": "code",
   "execution_count": 302,
   "id": "5d0f9ae4",
   "metadata": {},
   "outputs": [],
   "source": [
    "# On cherche un k optimal pour notre modele"
   ]
  },
  {
   "cell_type": "code",
   "execution_count": 303,
   "id": "87dbb43a",
   "metadata": {},
   "outputs": [
    {
     "name": "stdout",
     "output_type": "stream",
     "text": [
      "\n",
      " Le nombre k optimal est 1.\n"
     ]
    }
   ],
   "source": [
    "neighbors = [x for x in range(0,50) if x % 2 != 0]\n",
    "cv_scores=[]\n",
    "\n",
    "for k in neighbors:\n",
    "    knn = KNeighborsClassifier(n_neighbors = k)\n",
    "    scores = cross_val_score(knn,X_train,y_train,scoring='accuracy')\n",
    "    cv_scores.append(scores.mean())\n",
    "    \n",
    "# On bascule vers l'erreur\n",
    "\n",
    "MSE = [1-x for x in cv_scores]\n",
    "\n",
    "optimal_k = neighbors[MSE.index(min(MSE))]\n",
    "\n",
    "print(f\"\\n Le nombre k optimal est {optimal_k}.\")"
   ]
  },
  {
   "cell_type": "code",
   "execution_count": 230,
   "id": "1a27ec65",
   "metadata": {},
   "outputs": [
    {
     "name": "stdout",
     "output_type": "stream",
     "text": [
      "\n",
      " La precision du modele pour k=1 est 95.500000%\n"
     ]
    }
   ],
   "source": [
    "knn_optimal = KNeighborsClassifier(n_neighbors = optimal_k)\n",
    "\n",
    "knn_optimal.fit(X_train,y_train)\n",
    "\n",
    "pred = knn_optimal.predict(X_test)\n",
    "\n",
    "acc=accuracy_score(y_test,pred)*100\n",
    "print('\\n La precision du modele pour k=%d est %f%%'%(optimal_k,acc))"
   ]
  },
  {
   "cell_type": "code",
   "execution_count": 232,
   "id": "ded52196",
   "metadata": {},
   "outputs": [
    {
     "data": {
      "text/plain": [
       "array([[100,   6],\n",
       "       [  3,  91]], dtype=int64)"
      ]
     },
     "execution_count": 232,
     "metadata": {},
     "output_type": "execute_result"
    }
   ],
   "source": [
    "from sklearn.metrics import confusion_matrix\n",
    "\n",
    "#Confusion matrix\n",
    "confusion = metrics.confusion_matrix(y_test, pred)\n",
    "confusion"
   ]
  },
  {
   "cell_type": "code",
   "execution_count": 233,
   "id": "33c81490",
   "metadata": {},
   "outputs": [],
   "source": [
    "TP = confusion[1,1] # True Positives\n",
    "TN = confusion[0,0] # True Negatives\n",
    "FP = confusion[0,1] # False Positives\n",
    "FN = confusion[1,0] # False Negatives"
   ]
  },
  {
   "cell_type": "code",
   "execution_count": 234,
   "id": "da480e8f",
   "metadata": {},
   "outputs": [
    {
     "name": "stdout",
     "output_type": "stream",
     "text": [
      "Accuracy: 0.955\n",
      "Sensitivity: 0.9381443298969072\n",
      "Specificity: 0.970873786407767\n",
      "F1 Score: 0.9528795811518325\n"
     ]
    }
   ],
   "source": [
    "#Accuracy\n",
    "print(\"Accuracy:\", metrics.accuracy_score(y_test, pred))\n",
    "\n",
    "#Sensitivity\n",
    "print(\"Sensitivity:\", TP / float(TP+FP))\n",
    "\n",
    "#Specificity\n",
    "print(\"Specificity:\", TN / float(TN+FN))\n",
    "\n",
    "#F1 Score\n",
    "print(\"F1 Score:\", f1_score(y_test, pred))"
   ]
  },
  {
   "cell_type": "code",
   "execution_count": 235,
   "id": "1e6c67db",
   "metadata": {},
   "outputs": [
    {
     "name": "stdout",
     "output_type": "stream",
     "text": [
      "              precision    recall  f1-score   support\n",
      "\n",
      "           0       0.97      0.94      0.96       106\n",
      "           1       0.94      0.97      0.95        94\n",
      "\n",
      "    accuracy                           0.95       200\n",
      "   macro avg       0.95      0.96      0.95       200\n",
      "weighted avg       0.96      0.95      0.96       200\n",
      "\n"
     ]
    }
   ],
   "source": [
    "#Classification report\n",
    "print(classification_report(y_test, pred))"
   ]
  },
  {
   "cell_type": "code",
   "execution_count": 236,
   "id": "3aa36b63",
   "metadata": {},
   "outputs": [
    {
     "name": "stdout",
     "output_type": "stream",
     "text": [
      "ROC_AUC : 0.9557406663990365\n"
     ]
    },
    {
     "data": {
      "image/png": "[encoded data removed]",
      "text/plain": [
       "<Figure size 360x360 with 1 Axes>"
      ]
     },
     "metadata": {
      "needs_background": "light"
     },
     "output_type": "display_data"
    }
   ],
   "source": [
    "from sklearn.metrics import roc_auc_score\n",
    "\n",
    "roc_auc = roc_auc_score(y_test, pred)\n",
    "\n",
    "print(f'ROC_AUC : {roc_auc}')\n",
    "draw_ROC(y_test, pred)"
   ]
  },
  {
   "cell_type": "markdown",
   "id": "afd2e446",
   "metadata": {},
   "source": [
    "***Model summary***\n",
    "- Test set\n",
    "    - Accuracy: 0.955\n",
    "    - Sensitivity: 0.93\n",
    "    - Specificity: 0.97\n",
    "    - F1 Score: 0.95\n",
    "    - Roc-Auc: 0.96"
   ]
  }
 ],
 "metadata": {
  "kernelspec": {
   "display_name": "Python 3 (ipykernel)",
   "language": "python",
   "name": "python3"
  },
  "language_info": {
   "codemirror_mode": {
    "name": "ipython",
    "version": 3
   },
   "file_extension": ".py",
   "mimetype": "text/x-python",
   "name": "python",
   "nbconvert_exporter": "python",
   "pygments_lexer": "ipython3",
   "version": "3.9.7"
  }
 },
 "nbformat": 4,
 "nbformat_minor": 5
}
